{
 "cells": [
  {
   "cell_type": "code",
   "execution_count": 1,
   "id": "db8e1ec2",
   "metadata": {},
   "outputs": [],
   "source": [
    "import keras\n",
    "from keras.models import Sequential\n",
    "from keras.layers import Dense, Dropout, Flatten\n",
    "from keras.layers import Conv2D, MaxPooling2D\n",
    "from keras.preprocessing import image\n",
    "import numpy as np\n",
    "import pandas as pd\n",
    "import matplotlib.pyplot as plt\n",
    "from sklearn.model_selection import train_test_split\n",
    "from tqdm import tqdm\n",
    "from keras.layers import BatchNormalization\n"
   ]
  },
  {
   "cell_type": "code",
   "execution_count": 2,
   "id": "9498e791",
   "metadata": {},
   "outputs": [
    {
     "name": "stdout",
     "output_type": "stream",
     "text": [
      "          Id                                Genre  Action  Adventure  \\\n",
      "0  tt0086425                  ['Comedy', 'Drama']       0          0   \n",
      "1  tt0085549        ['Drama', 'Romance', 'Music']       0          0   \n",
      "2  tt0086465                           ['Comedy']       0          0   \n",
      "3  tt0086567               ['Sci-Fi', 'Thriller']       0          0   \n",
      "4  tt0086034  ['Action', 'Adventure', 'Thriller']       1          1   \n",
      "\n",
      "   Animation  Biography  Comedy  Crime  Documentary  Drama  ...  N/A  News  \\\n",
      "0          0          0       1      0            0      1  ...    0     0   \n",
      "1          0          0       0      0            0      1  ...    0     0   \n",
      "2          0          0       1      0            0      0  ...    0     0   \n",
      "3          0          0       0      0            0      0  ...    0     0   \n",
      "4          0          0       0      0            0      0  ...    0     0   \n",
      "\n",
      "   Reality-TV  Romance  Sci-Fi  Short  Sport  Thriller  War  Western  \n",
      "0           0        0       0      0      0         0    0        0  \n",
      "1           0        1       0      0      0         0    0        0  \n",
      "2           0        0       0      0      0         0    0        0  \n",
      "3           0        0       1      0      0         1    0        0  \n",
      "4           0        0       0      0      0         1    0        0  \n",
      "\n",
      "[5 rows x 27 columns]\n",
      "Index(['Id', 'Genre', 'Action', 'Adventure', 'Animation', 'Biography',\n",
      "       'Comedy', 'Crime', 'Documentary', 'Drama', 'Family', 'Fantasy',\n",
      "       'History', 'Horror', 'Music', 'Musical', 'Mystery', 'N/A', 'News',\n",
      "       'Reality-TV', 'Romance', 'Sci-Fi', 'Short', 'Sport', 'Thriller', 'War',\n",
      "       'Western'],\n",
      "      dtype='object')\n"
     ]
    }
   ],
   "source": [
    "image_directory = 'D:\\Programming\\Python\\Data\\Movie_Poster_Dataset\\\\1983'\n",
    "\n",
    "\n",
    "# Now let us read metadata to get our Y values (multiple lables)\n",
    "df = pd.read_csv('images/movie_metadata.csv')    \n",
    "print(df.head())     # printing first five rows of the file\n",
    "print(df.columns)\n",
    "\n",
    "df = df.iloc[:2000]  # Loading only first 2000 datapoints for memory reasons \n"
   ]
  },
  {
   "cell_type": "code",
   "execution_count": 3,
   "id": "934d7530",
   "metadata": {},
   "outputs": [
    {
     "name": "stderr",
     "output_type": "stream",
     "text": [
      "100%|█████████████████████████████████████████████████████████████████████████████| 2000/2000 [00:14<00:00, 137.05it/s]\n"
     ]
    }
   ],
   "source": [
    "from PIL import Image\n",
    "\n",
    "# Resize posters\n",
    "\n",
    "SIZE = 200\n",
    "X_dataset = []  \n",
    "for i in tqdm(range(df.shape[0])):\n",
    "    img = Image.open(image_directory + '\\\\' + df['Id'][i]+'.jpg')\n",
    "    img = img.resize((SIZE, SIZE))\n",
    "    img = np.array(img)\n",
    "    img = img/255.\n",
    "    X_dataset.append(img)\n",
    "    \n",
    "X = np.array(X_dataset)\n"
   ]
  },
  {
   "cell_type": "code",
   "execution_count": 4,
   "id": "11e64fcf",
   "metadata": {},
   "outputs": [
    {
     "name": "stdout",
     "output_type": "stream",
     "text": [
      "tt0091344\n",
      "['Action', 'Adventure', 'Horror']\n"
     ]
    }
   ],
   "source": [
    "#\n",
    "print(df['Id'][500])  #King Kong\n",
    "\n",
    "print(df['Genre'][500])  #Tagged as multiple Genres.\n"
   ]
  },
  {
   "cell_type": "code",
   "execution_count": 5,
   "id": "6871560c",
   "metadata": {},
   "outputs": [],
   "source": [
    "# data processing\n",
    "y = np.array(df.drop(['Id', 'Genre'], axis=1))\n",
    "\n",
    "X_train, X_test, y_train, y_test = train_test_split(X, y, random_state=20, test_size=0.2)\n"
   ]
  },
  {
   "cell_type": "code",
   "execution_count": 6,
   "id": "8cd41379",
   "metadata": {},
   "outputs": [
    {
     "name": "stdout",
     "output_type": "stream",
     "text": [
      "Model: \"sequential\"\n",
      "_________________________________________________________________\n",
      " Layer (type)                Output Shape              Param #   \n",
      "=================================================================\n",
      " conv2d (Conv2D)             (None, 196, 196, 16)      1216      \n",
      "                                                                 \n",
      " batch_normalization (BatchN  (None, 196, 196, 16)     64        \n",
      " ormalization)                                                   \n",
      "                                                                 \n",
      " max_pooling2d (MaxPooling2D  (None, 98, 98, 16)       0         \n",
      " )                                                               \n",
      "                                                                 \n",
      " dropout (Dropout)           (None, 98, 98, 16)        0         \n",
      "                                                                 \n",
      " conv2d_1 (Conv2D)           (None, 94, 94, 32)        12832     \n",
      "                                                                 \n",
      " max_pooling2d_1 (MaxPooling  (None, 47, 47, 32)       0         \n",
      " 2D)                                                             \n",
      "                                                                 \n",
      " batch_normalization_1 (Batc  (None, 47, 47, 32)       128       \n",
      " hNormalization)                                                 \n",
      "                                                                 \n",
      " dropout_1 (Dropout)         (None, 47, 47, 32)        0         \n",
      "                                                                 \n",
      " conv2d_2 (Conv2D)           (None, 43, 43, 64)        51264     \n",
      "                                                                 \n",
      " max_pooling2d_2 (MaxPooling  (None, 21, 21, 64)       0         \n",
      " 2D)                                                             \n",
      "                                                                 \n",
      " batch_normalization_2 (Batc  (None, 21, 21, 64)       256       \n",
      " hNormalization)                                                 \n",
      "                                                                 \n",
      " dropout_2 (Dropout)         (None, 21, 21, 64)        0         \n",
      "                                                                 \n",
      " conv2d_3 (Conv2D)           (None, 17, 17, 64)        102464    \n",
      "                                                                 \n",
      " max_pooling2d_3 (MaxPooling  (None, 8, 8, 64)         0         \n",
      " 2D)                                                             \n",
      "                                                                 \n",
      " batch_normalization_3 (Batc  (None, 8, 8, 64)         256       \n",
      " hNormalization)                                                 \n",
      "                                                                 \n",
      " dropout_3 (Dropout)         (None, 8, 8, 64)          0         \n",
      "                                                                 \n",
      " flatten (Flatten)           (None, 4096)              0         \n",
      "                                                                 \n",
      " dense (Dense)               (None, 128)               524416    \n",
      "                                                                 \n",
      " dropout_4 (Dropout)         (None, 128)               0         \n",
      "                                                                 \n",
      " dense_1 (Dense)             (None, 64)                8256      \n",
      "                                                                 \n",
      " dropout_5 (Dropout)         (None, 64)                0         \n",
      "                                                                 \n",
      " dense_2 (Dense)             (None, 25)                1625      \n",
      "                                                                 \n",
      "=================================================================\n",
      "Total params: 702,777\n",
      "Trainable params: 702,425\n",
      "Non-trainable params: 352\n",
      "_________________________________________________________________\n"
     ]
    }
   ],
   "source": [
    "# Build a model\n",
    "\n",
    "model = Sequential()\n",
    "\n",
    "model.add(Conv2D(filters=16, kernel_size=(5, 5), activation=\"relu\", input_shape=(SIZE,SIZE,3)))\n",
    "model.add(BatchNormalization())\n",
    "model.add(MaxPooling2D(pool_size=(2, 2)))\n",
    "model.add(Dropout(0.2))\n",
    "\n",
    "model.add(Conv2D(filters=32, kernel_size=(5, 5), activation='relu'))\n",
    "model.add(MaxPooling2D(pool_size=(2, 2)))\n",
    "model.add(BatchNormalization())\n",
    "model.add(Dropout(0.2))\n",
    "\n",
    "model.add(Conv2D(filters=64, kernel_size=(5, 5), activation=\"relu\"))\n",
    "model.add(MaxPooling2D(pool_size=(2, 2)))\n",
    "model.add(BatchNormalization())\n",
    "model.add(Dropout(0.2))\n",
    "\n",
    "model.add(Conv2D(filters=64, kernel_size=(5, 5), activation='relu'))\n",
    "model.add(MaxPooling2D(pool_size=(2, 2)))\n",
    "model.add(BatchNormalization())\n",
    "model.add(Dropout(0.2))\n",
    "\n",
    "model.add(Flatten())\n",
    "model.add(Dense(128, activation='relu'))\n",
    "model.add(Dropout(0.5))\n",
    "model.add(Dense(64, activation='relu'))\n",
    "model.add(Dropout(0.5))\n",
    "model.add(Dense(25, activation='sigmoid'))\n",
    "\n",
    "#Do not use softmax for multilabel classification\n",
    "#Softmax is useful for mutually exclusive classes, either cat or dog but not both.\n",
    "#Also, softmax outputs all add to 1. So good for multi class problems where each\n",
    "#class is given a probability and all add to 1. Highest one wins. \n",
    "\n",
    "#Sigmoid outputs probability. Can be used for non-mutually exclusive problems.\n",
    "#like multi label, in this example.\n",
    "#But, also good for binary mutually exclusive (cat or not cat). \n",
    "\n",
    "model.summary()\n",
    "\n",
    "#Binary cross entropy of each label. So no really a binary classification problem but\n",
    "#Calculating binary cross entropy for each label. \n",
    "model.compile(optimizer='adam', loss='binary_crossentropy', metrics=['accuracy'])\n"
   ]
  },
  {
   "cell_type": "code",
   "execution_count": 7,
   "id": "daf73bb0",
   "metadata": {},
   "outputs": [
    {
     "name": "stdout",
     "output_type": "stream",
     "text": [
      "Epoch 1/25\n",
      "25/25 [==============================] - 76s 3s/step - loss: 0.6896 - accuracy: 0.0700 - val_loss: 0.4811 - val_accuracy: 0.2475\n",
      "Epoch 2/25\n",
      "25/25 [==============================] - 73s 3s/step - loss: 0.4348 - accuracy: 0.1400 - val_loss: 0.3162 - val_accuracy: 0.1975\n",
      "Epoch 3/25\n",
      "25/25 [==============================] - 75s 3s/step - loss: 0.3575 - accuracy: 0.2131 - val_loss: 0.3341 - val_accuracy: 0.1975\n",
      "Epoch 4/25\n",
      "25/25 [==============================] - 75s 3s/step - loss: 0.3296 - accuracy: 0.2156 - val_loss: 0.2653 - val_accuracy: 0.2000\n",
      "Epoch 5/25\n",
      "25/25 [==============================] - 74s 3s/step - loss: 0.3133 - accuracy: 0.2581 - val_loss: 0.2748 - val_accuracy: 0.1975\n",
      "Epoch 6/25\n",
      "25/25 [==============================] - 72s 3s/step - loss: 0.2985 - accuracy: 0.2744 - val_loss: 0.2612 - val_accuracy: 0.2175\n",
      "Epoch 7/25\n",
      "25/25 [==============================] - 71s 3s/step - loss: 0.2927 - accuracy: 0.2819 - val_loss: 0.2521 - val_accuracy: 0.1975\n",
      "Epoch 8/25\n",
      "25/25 [==============================] - 69s 3s/step - loss: 0.2831 - accuracy: 0.2794 - val_loss: 0.2636 - val_accuracy: 0.1975\n",
      "Epoch 9/25\n",
      "25/25 [==============================] - 70s 3s/step - loss: 0.2758 - accuracy: 0.2894 - val_loss: 0.2462 - val_accuracy: 0.1975\n",
      "Epoch 10/25\n",
      "25/25 [==============================] - 69s 3s/step - loss: 0.2676 - accuracy: 0.3181 - val_loss: 0.2535 - val_accuracy: 0.1975\n",
      "Epoch 11/25\n",
      "25/25 [==============================] - 70s 3s/step - loss: 0.2645 - accuracy: 0.2994 - val_loss: 0.2482 - val_accuracy: 0.1975\n",
      "Epoch 12/25\n",
      "25/25 [==============================] - 69s 3s/step - loss: 0.2609 - accuracy: 0.3356 - val_loss: 0.2511 - val_accuracy: 0.2150\n",
      "Epoch 13/25\n",
      "25/25 [==============================] - 70s 3s/step - loss: 0.2562 - accuracy: 0.3281 - val_loss: 0.2484 - val_accuracy: 0.2000\n",
      "Epoch 14/25\n",
      "25/25 [==============================] - 69s 3s/step - loss: 0.2519 - accuracy: 0.3144 - val_loss: 0.2501 - val_accuracy: 0.2100\n",
      "Epoch 15/25\n",
      "25/25 [==============================] - 69s 3s/step - loss: 0.2472 - accuracy: 0.3300 - val_loss: 0.2471 - val_accuracy: 0.2025\n",
      "Epoch 16/25\n",
      "25/25 [==============================] - 70s 3s/step - loss: 0.2431 - accuracy: 0.3462 - val_loss: 0.2445 - val_accuracy: 0.2600\n",
      "Epoch 17/25\n",
      "25/25 [==============================] - 69s 3s/step - loss: 0.2418 - accuracy: 0.3469 - val_loss: 0.2501 - val_accuracy: 0.2050\n",
      "Epoch 18/25\n",
      "25/25 [==============================] - 70s 3s/step - loss: 0.2359 - accuracy: 0.3544 - val_loss: 0.2448 - val_accuracy: 0.2275\n",
      "Epoch 19/25\n",
      "25/25 [==============================] - 71s 3s/step - loss: 0.2350 - accuracy: 0.3675 - val_loss: 0.2482 - val_accuracy: 0.2175\n",
      "Epoch 20/25\n",
      "25/25 [==============================] - 70s 3s/step - loss: 0.2336 - accuracy: 0.3663 - val_loss: 0.2456 - val_accuracy: 0.2300\n",
      "Epoch 21/25\n",
      "25/25 [==============================] - 70s 3s/step - loss: 0.2342 - accuracy: 0.3650 - val_loss: 0.2453 - val_accuracy: 0.2800\n",
      "Epoch 22/25\n",
      "25/25 [==============================] - 71s 3s/step - loss: 0.2287 - accuracy: 0.3794 - val_loss: 0.2489 - val_accuracy: 0.2075\n",
      "Epoch 23/25\n",
      "25/25 [==============================] - 71s 3s/step - loss: 0.2254 - accuracy: 0.3862 - val_loss: 0.2433 - val_accuracy: 0.3050\n",
      "Epoch 24/25\n",
      "25/25 [==============================] - 71s 3s/step - loss: 0.2250 - accuracy: 0.3769 - val_loss: 0.2442 - val_accuracy: 0.2875\n",
      "Epoch 25/25\n",
      "25/25 [==============================] - 70s 3s/step - loss: 0.2228 - accuracy: 0.3812 - val_loss: 0.2449 - val_accuracy: 0.3125\n"
     ]
    }
   ],
   "source": [
    "history = model.fit(X_train, y_train, epochs=25, validation_data=(X_test, y_test), batch_size=64)\n",
    "\n"
   ]
  },
  {
   "cell_type": "code",
   "execution_count": 8,
   "id": "0bebbd35",
   "metadata": {},
   "outputs": [
    {
     "data": {
      "image/png": "[encoded data removed]",
      "text/plain": [
       "<Figure size 432x288 with 1 Axes>"
      ]
     },
     "metadata": {
      "needs_background": "light"
     },
     "output_type": "display_data"
    },
    {
     "data": {
      "image/png": "[encoded data removed]",
      "text/plain": [
       "<Figure size 432x288 with 1 Axes>"
      ]
     },
     "metadata": {
      "needs_background": "light"
     },
     "output_type": "display_data"
    },
    {
     "name": "stdout",
     "output_type": "stream",
     "text": [
      "13/13 [==============================] - 4s 285ms/step - loss: 0.2449 - accuracy: 0.3125\n",
      "Accuracy =  31.25 %\n"
     ]
    }
   ],
   "source": [
    "#plot the training and validation accuracy and loss at each epoch\n",
    "loss = history.history['loss']\n",
    "val_loss = history.history['val_loss']\n",
    "epochs = range(1, len(loss) + 1)\n",
    "plt.plot(epochs, loss, 'y', label='Training loss')\n",
    "plt.plot(epochs, val_loss, 'r', label='Validation loss')\n",
    "plt.title('Training and validation loss')\n",
    "plt.xlabel('Epochs')\n",
    "plt.ylabel('Loss')\n",
    "plt.legend()\n",
    "plt.show()\n",
    "\n",
    "\n",
    "acc = history.history['accuracy']\n",
    "val_acc = history.history['val_accuracy']\n",
    "plt.plot(epochs, acc, 'y', label='Training acc')\n",
    "plt.plot(epochs, val_acc, 'r', label='Validation acc')\n",
    "plt.title('Training and validation accuracy')\n",
    "plt.xlabel('Epochs')\n",
    "plt.ylabel('Accuracy')\n",
    "plt.legend()\n",
    "plt.show()\n",
    "\n",
    "_, acc = model.evaluate(X_test, y_test)\n",
    "print(\"Accuracy = \", (acc * 100.0), \"%\")\n",
    "\n",
    "################################################################\n"
   ]
  },
  {
   "cell_type": "code",
   "execution_count": 9,
   "id": "d6b84181",
   "metadata": {},
   "outputs": [
    {
     "data": {
      "text/plain": [
       "(200, 200, 3)"
      ]
     },
     "execution_count": 9,
     "metadata": {},
     "output_type": "execute_result"
    }
   ],
   "source": [
    "X_test[1].shape"
   ]
  },
  {
   "cell_type": "code",
   "execution_count": null,
   "id": "f56f70b4",
   "metadata": {},
   "outputs": [],
   "source": []
  }
 ],
 "metadata": {
  "kernelspec": {
   "display_name": "Python 3",
   "language": "python",
   "name": "python3"
  },
  "language_info": {
   "codemirror_mode": {
    "name": "ipython",
    "version": 3
   },
   "file_extension": ".py",
   "mimetype": "text/x-python",
   "name": "python",
   "nbconvert_exporter": "python",
   "pygments_lexer": "ipython3",
   "version": "3.8.8"
  }
 },
 "nbformat": 4,
 "nbformat_minor": 5
}
