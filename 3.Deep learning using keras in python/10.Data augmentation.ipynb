{
 "cells": [
  {
   "cell_type": "code",
   "execution_count": 1,
   "id": "8d9653c1",
   "metadata": {},
   "outputs": [],
   "source": [
    "from keras.preprocessing.image import ImageDataGenerator\n",
    "from skimage import io\n",
    "\n",
    "datag = ImageDataGenerator(rotation_range = 45,\n",
    "                          width_shift_range = 0.2,\n",
    "                          height_shift_range = 0.2,\n",
    "                          shear_range = 0.2,\n",
    "                          zoom_range = 0.2,\n",
    "                          horizontal_flip = True,\n",
    "                          fill_mode = 'reflect', cval = 125) # Try nearest, constant, reflect, wrap.\n"
   ]
  },
  {
   "cell_type": "code",
   "execution_count": 2,
   "id": "409677f0",
   "metadata": {},
   "outputs": [
    {
     "name": "stdout",
     "output_type": "stream",
     "text": [
      "(256, 256, 3)\n",
      "(256, 256, 3)\n",
      "(2, 128, 128, 3)\n"
     ]
    }
   ],
   "source": [
    "import numpy as np\n",
    "import os\n",
    "from PIL import Image\n",
    "\n",
    "image_directory = 'images/test_folder/'\n",
    "SIZE = 128\n",
    "dataset = []\n",
    "\n",
    "my_img = os.listdir(image_directory)\n",
    "#print(my_img)\n",
    "\n",
    "for i, image_name in enumerate(my_img):\n",
    "    if (image_name.split('.')[1] == 'jpg'):\n",
    "        image = io.imread(image_directory + image_name)\n",
    "        print(image.shape)\n",
    "        image = Image.fromarray(image,'RGB')\n",
    "        image = image.resize((SIZE,SIZE))\n",
    "        image = list(np.array(image))\n",
    "        dataset.append(image)\n",
    "\n",
    "x = np.array(dataset)\n",
    "\n",
    "print(x.shape)"
   ]
  },
  {
   "cell_type": "code",
   "execution_count": 5,
   "id": "fce3c05f",
   "metadata": {},
   "outputs": [],
   "source": [
    "i = 0\n",
    "for batch in datag.flow(x, batch_size=16,  \n",
    "                          save_to_dir='images/augmented', \n",
    "                          save_prefix='aug', \n",
    "                          save_format='png'):\n",
    "    i += 1\n",
    "    if i > 20:\n",
    "        break  # otherwise the generator would loop indefinitely  \n"
   ]
  },
  {
   "cell_type": "code",
   "execution_count": 8,
   "id": "16227f6c",
   "metadata": {},
   "outputs": [
    {
     "name": "stdout",
     "output_type": "stream",
     "text": [
      "Found 2 images belonging to 2 classes.\n"
     ]
    }
   ],
   "source": [
    "i = 0\n",
    "for batch in datag.flow_from_directory(directory='images/einstein_mona_lisa/', \n",
    "                                         batch_size=16,  \n",
    "                                         target_size=(256, 256),\n",
    "                                         color_mode=\"rgb\",\n",
    "                                         save_to_dir='images/augmented', \n",
    "                                         save_prefix='aug', \n",
    "                                         save_format='png'):\n",
    "    i += 1\n",
    "    if i > 31:\n",
    "        break \n"
   ]
  },
  {
   "cell_type": "code",
   "execution_count": null,
   "id": "e5673dee",
   "metadata": {},
   "outputs": [],
   "source": []
  }
 ],
 "metadata": {
  "kernelspec": {
   "display_name": "Python 3",
   "language": "python",
   "name": "python3"
  },
  "language_info": {
   "codemirror_mode": {
    "name": "ipython",
    "version": 3
   },
   "file_extension": ".py",
   "mimetype": "text/x-python",
   "name": "python",
   "nbconvert_exporter": "python",
   "pygments_lexer": "ipython3",
   "version": "3.8.8"
  }
 },
 "nbformat": 4,
 "nbformat_minor": 5
}
