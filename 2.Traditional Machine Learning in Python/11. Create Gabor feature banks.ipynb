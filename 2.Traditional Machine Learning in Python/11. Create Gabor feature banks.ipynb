{
 "cells": [
  {
   "cell_type": "code",
   "execution_count": 3,
   "id": "b1493663",
   "metadata": {},
   "outputs": [
    {
     "name": "stdout",
     "output_type": "stream",
     "text": [
      "Gabor1\n",
      "Gabor2\n",
      "Gabor3\n",
      "Gabor4\n",
      "Gabor5\n",
      "Gabor6\n",
      "Gabor7\n",
      "Gabor8\n",
      "Gabor9\n",
      "Gabor10\n",
      "Gabor11\n",
      "Gabor12\n",
      "Gabor13\n",
      "Gabor14\n",
      "Gabor15\n",
      "Gabor16\n",
      "Gabor17\n",
      "Gabor18\n",
      "Gabor19\n",
      "Gabor20\n",
      "Gabor21\n",
      "Gabor22\n",
      "Gabor23\n",
      "Gabor24\n",
      "Gabor25\n",
      "Gabor26\n",
      "Gabor27\n",
      "Gabor28\n",
      "Gabor29\n",
      "Gabor30\n",
      "Gabor31\n",
      "Gabor32\n"
     ]
    }
   ],
   "source": [
    "import numpy as np\n",
    "import cv2\n",
    "import matplotlib.pyplot as plt\n",
    "import pandas as pd\n",
    "\n",
    "img = cv2.imread('image/synthetic.JPG')\n",
    "img = cv2.cvtColor(img, cv2.COLOR_BGR2GRAY)\n",
    "\n",
    "df = pd.DataFrame()\n",
    "img2 = img.reshape(-1)\n",
    "df['Original_pixels'] = img2\n",
    "\n",
    "num = 1\n",
    "\n",
    "for theta in range(2):\n",
    "    theta = theta/4. * np.pi\n",
    "    for sigma in (3, 5):\n",
    "        for lamda in np.arange(0, np.pi, np.pi/4):\n",
    "            for gamma in (0.05, 0.5):\n",
    "                #print(theta, sigma, lamda, gamma)\n",
    "                gabor_label = 'Gabor' + str(num)\n",
    "                kernel = cv2.getGaborKernel((5, 5), sigma, theta, lamda, gamma, 0, ktype=cv2.CV_32F)\n",
    "                fimg = cv2.filter2D(img, cv2.CV_8UC3, kernel)\n",
    "                filtered_img = fimg.reshape(-1)\n",
    "                df[gabor_label] = filtered_img\n",
    "                num += 1\n",
    "                print(gabor_label)\n",
    "                "
   ]
  },
  {
   "cell_type": "code",
   "execution_count": 4,
   "id": "e22c3f71",
   "metadata": {},
   "outputs": [],
   "source": [
    "df.to_csv('Gabor.csv')"
   ]
  },
  {
   "cell_type": "code",
   "execution_count": 5,
   "id": "080653c5",
   "metadata": {},
   "outputs": [
    {
     "name": "stdout",
     "output_type": "stream",
     "text": [
      "   Original_pixels  Gabor1  Gabor2  Gabor3  Gabor4  Gabor5  ...  Gabor27  Gabor28  Gabor29  Gabor30  Gabor31  Gabor32\n",
      "0              255       0       0       0       0       0  ...      255      255      130      122      255      255\n",
      "1              255       0       0       0       0       0  ...      255      255      130      122      255      255\n",
      "2              255       0       0       0       0       0  ...      255      255      130      122      255      255\n",
      "3              255       0       0       0       0       0  ...      255      255      130      122      255      255\n",
      "4              255       0       0       0       0       0  ...      255      255      130      122      255      255\n",
      "\n",
      "[5 rows x 33 columns]\n"
     ]
    }
   ],
   "source": [
    "print(df.head())"
   ]
  },
  {
   "cell_type": "code",
   "execution_count": null,
   "id": "f6caf465",
   "metadata": {},
   "outputs": [],
   "source": []
  }
 ],
 "metadata": {
  "kernelspec": {
   "display_name": "Python 3",
   "language": "python",
   "name": "python3"
  },
  "language_info": {
   "codemirror_mode": {
    "name": "ipython",
    "version": 3
   },
   "file_extension": ".py",
   "mimetype": "text/x-python",
   "name": "python",
   "nbconvert_exporter": "python",
   "pygments_lexer": "ipython3",
   "version": "3.8.8"
  }
 },
 "nbformat": 4,
 "nbformat_minor": 5
}
