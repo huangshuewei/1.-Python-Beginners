{
 "cells": [
  {
   "cell_type": "code",
   "execution_count": 1,
   "id": "c7c09f08",
   "metadata": {},
   "outputs": [
    {
     "name": "stdout",
     "output_type": "stream",
     "text": [
      "   User  Time  Coffee  Age  Images_Analyzed Productivity\n",
      "0     1     8       0   23               20         Good\n",
      "1     1    13       0   23               14          Bad\n",
      "2     1    17       0   23               18         Good\n",
      "3     1    22       0   23               15          Bad\n",
      "4     1     8       2   23               22         Good\n"
     ]
    },
    {
     "data": {
      "text/plain": [
       "\"\\nplt.figure()\\nplt.scatter(df.Age, df.Productivity, marker='+', color='red')\\nplt.figure()\\nplt.scatter(df.Coffee, df.Productivity, marker='+', color='red')\\n\""
      ]
     },
     "execution_count": 1,
     "metadata": {},
     "output_type": "execute_result"
    }
   ],
   "source": [
    "import pandas as pd\n",
    "import numpy as np\n",
    "import matplotlib.pyplot as plt\n",
    "\n",
    "\n",
    "# STEP 1: Data reading\n",
    "df = pd.read_csv(\"other files/images_analyzed_productivity1.csv\")\n",
    "print(df.head())\n",
    "'''\n",
    "plt.figure()\n",
    "plt.scatter(df.Age, df.Productivity, marker='+', color='red')\n",
    "plt.figure()\n",
    "plt.scatter(df.Coffee, df.Productivity, marker='+', color='red')\n",
    "'''"
   ]
  },
  {
   "cell_type": "code",
   "execution_count": 2,
   "id": "8746cc7b",
   "metadata": {},
   "outputs": [
    {
     "data": {
      "text/plain": [
       "([<matplotlib.patches.Wedge at 0x1e79a9d5be0>,\n",
       "  <matplotlib.patches.Wedge at 0x1e79a9eb310>],\n",
       " [Text(-0.08630492316306847, 1.096609073570804, ''),\n",
       "  Text(0.08630482049111692, -1.0966090816512493, '')],\n",
       " [Text(-0.04707541263440097, 0.598150403765893, '52.5%'),\n",
       "  Text(0.04707535663151831, -0.5981504081734086, '47.5%')])"
      ]
     },
     "execution_count": 2,
     "metadata": {},
     "output_type": "execute_result"
    },
    {
     "data": {
      "image/png": "[encoded data removed]",
      "text/plain": [
       "<Figure size 432x288 with 1 Axes>"
      ]
     },
     "metadata": {},
     "output_type": "display_data"
    }
   ],
   "source": [
    "sizes = df['Productivity'].value_counts(sort=1)\n",
    "plt.figure()\n",
    "plt.pie(sizes, autopct='%2.1f%%')"
   ]
  },
  {
   "cell_type": "code",
   "execution_count": 3,
   "id": "38645977",
   "metadata": {},
   "outputs": [
    {
     "name": "stdout",
     "output_type": "stream",
     "text": [
      "   Time  Coffee  Age Productivity\n",
      "0     8       0   23         Good\n",
      "1    13       0   23          Bad\n",
      "2    17       0   23         Good\n",
      "3    22       0   23          Bad\n",
      "4     8       2   23         Good\n"
     ]
    }
   ],
   "source": [
    "# STEP 2: Drop irrelevant data\n",
    "df.drop(['Images_Analyzed'], axis=1, inplace=True)\n",
    "df.drop(['User'], axis=1, inplace=True)\n",
    "print(df.head())\n"
   ]
  },
  {
   "cell_type": "code",
   "execution_count": 4,
   "id": "9f1e2176",
   "metadata": {},
   "outputs": [
    {
     "name": "stdout",
     "output_type": "stream",
     "text": [
      "   Time  Coffee  Age Productivity\n",
      "0     8       0   23            1\n",
      "1    13       0   23            2\n",
      "2    17       0   23            1\n",
      "3    22       0   23            2\n",
      "4     8       2   23            1\n"
     ]
    },
    {
     "name": "stderr",
     "output_type": "stream",
     "text": [
      "<ipython-input-4-c83c22956676>:5: SettingWithCopyWarning: \n",
      "A value is trying to be set on a copy of a slice from a DataFrame\n",
      "\n",
      "See the caveats in the documentation: https://pandas.pydata.org/pandas-docs/stable/user_guide/indexing.html#returning-a-view-versus-a-copy\n",
      "  df.Productivity[df.Productivity == 'Good'] = 1\n",
      "<ipython-input-4-c83c22956676>:6: SettingWithCopyWarning: \n",
      "A value is trying to be set on a copy of a slice from a DataFrame\n",
      "\n",
      "See the caveats in the documentation: https://pandas.pydata.org/pandas-docs/stable/user_guide/indexing.html#returning-a-view-versus-a-copy\n",
      "  df.Productivity[df.Productivity == 'Bad'] = 2\n"
     ]
    }
   ],
   "source": [
    "# STEP 3: Dealing with missing values\n",
    "# df = df.dropna()\n",
    "\n",
    "# STEP 4: Convert non-numeric data to numeric\n",
    "df.Productivity[df.Productivity == 'Good'] = 1\n",
    "df.Productivity[df.Productivity == 'Bad'] = 2\n",
    "\n",
    "print(df.head())\n"
   ]
  },
  {
   "cell_type": "code",
   "execution_count": 5,
   "id": "cf98e8d3",
   "metadata": {},
   "outputs": [
    {
     "name": "stdout",
     "output_type": "stream",
     "text": [
      "   Time  Coffee  Age\n",
      "0     8       0   23\n",
      "1    13       0   23\n",
      "2    17       0   23\n",
      "3    22       0   23\n",
      "4     8       2   23\n"
     ]
    }
   ],
   "source": [
    "# STEP 5: Prepare the data (define indep/dep variables)\n",
    "Y = df['Productivity'].values\n",
    "Y = Y.astype('int')\n",
    "\n",
    "X = df.drop(['Productivity'], axis=1)\n",
    "print(X.head())\n"
   ]
  },
  {
   "cell_type": "code",
   "execution_count": 6,
   "id": "5a56b280",
   "metadata": {},
   "outputs": [
    {
     "name": "stdout",
     "output_type": "stream",
     "text": [
      "    Time  Coffee  Age\n",
      "42    18       4   31\n",
      "5     13       2   23\n",
      "54    17       2   45\n",
      "12     8       6   23\n",
      "78    17       6   52\n"
     ]
    }
   ],
   "source": [
    "# STEP 6: Split data\n",
    "\n",
    "from sklearn.model_selection import train_test_split\n",
    "\n",
    "X_train, X_test, y_train, y_test = train_test_split(X, Y, test_size=0.1, random_state=20)\n",
    "\n",
    "print(X_train.head())"
   ]
  },
  {
   "cell_type": "code",
   "execution_count": 14,
   "id": "ce9886b2",
   "metadata": {},
   "outputs": [
    {
     "data": {
      "text/plain": [
       "LogisticRegression()"
      ]
     },
     "execution_count": 14,
     "metadata": {},
     "output_type": "execute_result"
    }
   ],
   "source": [
    "# STEP 7: Define the model\n",
    "from sklearn.linear_model import LogisticRegression\n",
    "\n",
    "model = LogisticRegression()\n",
    "model.fit(X_train,y_train)\n"
   ]
  },
  {
   "cell_type": "code",
   "execution_count": 15,
   "id": "93176c3e",
   "metadata": {},
   "outputs": [
    {
     "name": "stdout",
     "output_type": "stream",
     "text": [
      "Acc =  0.75\n"
     ]
    }
   ],
   "source": [
    "# STEP 8: Test the model\n",
    "prediction_test = model.predict(X_test)\n",
    "\n",
    "# STEP 9: Verify the model\n",
    "from sklearn import metrics\n",
    "\n",
    "print(\"Acc = \", metrics.accuracy_score(y_test, prediction_test))\n"
   ]
  },
  {
   "cell_type": "code",
   "execution_count": 18,
   "id": "750b1702",
   "metadata": {},
   "outputs": [
    {
     "name": "stdout",
     "output_type": "stream",
     "text": [
      "[[0.18788991 0.19204588 0.0200644 ]]\n",
      "Time      0.187890\n",
      "Coffee    0.192046\n",
      "Age       0.020064\n",
      "dtype: float64\n"
     ]
    }
   ],
   "source": [
    "# STEP 10: Weights\n",
    "print(model.coef_)\n",
    "\n",
    "weights = pd.Series(model.coef_[0], index=X.columns.values)\n",
    "print(weights)"
   ]
  },
  {
   "cell_type": "code",
   "execution_count": null,
   "id": "c0149fc1",
   "metadata": {},
   "outputs": [],
   "source": []
  }
 ],
 "metadata": {
  "kernelspec": {
   "display_name": "Python 3",
   "language": "python",
   "name": "python3"
  },
  "language_info": {
   "codemirror_mode": {
    "name": "ipython",
    "version": 3
   },
   "file_extension": ".py",
   "mimetype": "text/x-python",
   "name": "python",
   "nbconvert_exporter": "python",
   "pygments_lexer": "ipython3",
   "version": "3.8.8"
  }
 },
 "nbformat": 4,
 "nbformat_minor": 5
}
