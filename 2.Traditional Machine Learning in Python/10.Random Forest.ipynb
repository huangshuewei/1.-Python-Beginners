{
 "cells": [
  {
   "cell_type": "code",
   "execution_count": 1,
   "id": "13e25cd9",
   "metadata": {},
   "outputs": [
    {
     "name": "stdout",
     "output_type": "stream",
     "text": [
      "   User  Time  Coffee  Age  Images_Analyzed Productivity\n",
      "0     1     8       0   23               20         Good\n",
      "1     1    13       0   23               14          Bad\n",
      "2     1    17       0   23               18         Good\n",
      "3     1    22       0   23               15          Bad\n",
      "4     1     8       2   23               22         Good\n"
     ]
    }
   ],
   "source": [
    "import pandas as pd\n",
    "from matplotlib import pyplot as plt\n",
    "import numpy as np\n",
    "\n",
    "df = pd.read_csv('other files/images_analyzed_productivity1.csv')\n",
    "print(df.head())"
   ]
  },
  {
   "cell_type": "code",
   "execution_count": 2,
   "id": "c682fbd7",
   "metadata": {},
   "outputs": [
    {
     "name": "stdout",
     "output_type": "stream",
     "text": [
      "Bad     42\n",
      "Good    38\n",
      "Name: Productivity, dtype: int64\n"
     ]
    }
   ],
   "source": [
    "sizes = df['Productivity'].value_counts(sort=1)\n",
    "print(sizes)"
   ]
  },
  {
   "cell_type": "code",
   "execution_count": 3,
   "id": "a4d11a2f",
   "metadata": {},
   "outputs": [
    {
     "name": "stdout",
     "output_type": "stream",
     "text": [
      "   Time  Coffee  Age Productivity\n",
      "0     8       0   23            1\n",
      "1    13       0   23            0\n",
      "2    17       0   23            1\n",
      "3    22       0   23            0\n",
      "4     8       2   23            1\n"
     ]
    },
    {
     "name": "stderr",
     "output_type": "stream",
     "text": [
      "<ipython-input-3-ebc55d727a71>:9: SettingWithCopyWarning: \n",
      "A value is trying to be set on a copy of a slice from a DataFrame\n",
      "\n",
      "See the caveats in the documentation: https://pandas.pydata.org/pandas-docs/stable/user_guide/indexing.html#returning-a-view-versus-a-copy\n",
      "  df.Productivity[df.Productivity == 'Good'] = 1\n",
      "<ipython-input-3-ebc55d727a71>:10: SettingWithCopyWarning: \n",
      "A value is trying to be set on a copy of a slice from a DataFrame\n",
      "\n",
      "See the caveats in the documentation: https://pandas.pydata.org/pandas-docs/stable/user_guide/indexing.html#returning-a-view-versus-a-copy\n",
      "  df.Productivity[df.Productivity == 'Bad'] = 0\n"
     ]
    }
   ],
   "source": [
    "# Drop irrelevant columns\n",
    "df.drop(['User'], axis=1, inplace=True)\n",
    "df.drop(['Images_Analyzed'], axis=1, inplace=True)\n",
    "\n",
    "# Handle missing values\n",
    "df = df.dropna()\n",
    "\n",
    "# Convert non-numeric data to numeric\n",
    "df.Productivity[df.Productivity == 'Good'] = 1\n",
    "df.Productivity[df.Productivity == 'Bad'] = 0\n",
    "\n",
    "print(df.head())\n",
    "\n",
    "# Define variables\n",
    "Y = df['Productivity'].values\n",
    "Y = Y.astype('int')\n",
    "X = df.drop(labels=['Productivity'], axis=1)\n",
    "\n",
    "# Split data into train and test dataset\n",
    "from sklearn.model_selection import train_test_split\n",
    "\n",
    "X_train, X_test, y_train, y_test = train_test_split(X, Y, test_size=0.2, random_state=20)\n",
    "\n"
   ]
  },
  {
   "cell_type": "code",
   "execution_count": 4,
   "id": "3b9d63d5",
   "metadata": {},
   "outputs": [
    {
     "name": "stdout",
     "output_type": "stream",
     "text": [
      "[0 1 0 1 0 1 1 0 1 0 0 1 0 0 0 1]\n"
     ]
    }
   ],
   "source": [
    "# import RF model\n",
    "from sklearn.ensemble import RandomForestClassifier\n",
    "\n",
    "model = RandomForestClassifier(n_estimators=10, random_state=30)\n",
    "\n",
    "model.fit(X_train, y_train)\n",
    "\n",
    "prediction_test = model.predict(X_test)\n",
    "print(prediction_test)"
   ]
  },
  {
   "cell_type": "code",
   "execution_count": 5,
   "id": "aa093ddd",
   "metadata": {},
   "outputs": [
    {
     "name": "stdout",
     "output_type": "stream",
     "text": [
      "Acc =  0.875\n"
     ]
    }
   ],
   "source": [
    "from sklearn import metrics\n",
    "print(\"Acc = \", metrics.accuracy_score(y_test, prediction_test))\n",
    "\n"
   ]
  },
  {
   "cell_type": "code",
   "execution_count": 6,
   "id": "7ceae10e",
   "metadata": {},
   "outputs": [
    {
     "name": "stdout",
     "output_type": "stream",
     "text": [
      "Time      0.714433\n",
      "Coffee    0.205474\n",
      "Age       0.080092\n",
      "dtype: float64\n"
     ]
    }
   ],
   "source": [
    "feature_list = list(X.columns)\n",
    "feature_imp = pd.Series(model.feature_importances_, index=feature_list).sort_values(ascending=False)\n",
    "\n",
    "print(feature_imp)"
   ]
  },
  {
   "cell_type": "code",
   "execution_count": null,
   "id": "6a6f8302",
   "metadata": {},
   "outputs": [],
   "source": []
  }
 ],
 "metadata": {
  "kernelspec": {
   "display_name": "Python 3",
   "language": "python",
   "name": "python3"
  },
  "language_info": {
   "codemirror_mode": {
    "name": "ipython",
    "version": 3
   },
   "file_extension": ".py",
   "mimetype": "text/x-python",
   "name": "python",
   "nbconvert_exporter": "python",
   "pygments_lexer": "ipython3",
   "version": "3.8.8"
  }
 },
 "nbformat": 4,
 "nbformat_minor": 5
}
