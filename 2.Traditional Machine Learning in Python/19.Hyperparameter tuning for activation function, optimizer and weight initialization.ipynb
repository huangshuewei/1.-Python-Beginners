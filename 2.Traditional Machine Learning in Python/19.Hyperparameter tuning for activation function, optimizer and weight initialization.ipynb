{
 "cells": [
  {
   "cell_type": "code",
   "execution_count": 1,
   "id": "1f6d58a9",
   "metadata": {},
   "outputs": [
    {
     "name": "stdout",
     "output_type": "stream",
     "text": [
      "2.9.1\n",
      "2.9.0\n"
     ]
    },
    {
     "data": {
      "image/png": "[encoded data removed]",
      "text/plain": [
       "<Figure size 720x720 with 20 Axes>"
      ]
     },
     "metadata": {},
     "output_type": "display_data"
    }
   ],
   "source": [
    "import tensorflow as tf\n",
    "import keras\n",
    "from keras.layers import Dense\n",
    "from keras.models import Sequential\n",
    "from keras.layers import Dropout\n",
    "\n",
    "from keras.callbacks import LearningRateScheduler\n",
    "\n",
    "import numpy as np\n",
    "from matplotlib import pyplot as plt\n",
    "\n",
    "from sklearn.model_selection import GridSearchCV\n",
    "\n",
    "print(tf.__version__)\n",
    "print(keras.__version__)\n",
    "\n",
    "# fix random seed for reproducibility\n",
    "np.random.seed(42)\n",
    "\n",
    "mnist = keras.datasets.mnist\n",
    "(x_train, y_train),(x_test, y_test) = mnist.load_data()\n",
    "\n",
    "plt.figure(figsize=(10,10))\n",
    "for i in range(20):\n",
    "    plt.subplot(5,5,i+1)\n",
    "    plt.xticks([])\n",
    "    plt.yticks([])\n",
    "    plt.grid(False)\n",
    "    plt.imshow(x_train[i], cmap=plt.cm.binary)\n",
    "    plt.xlabel(y_train[i])\n",
    "\n"
   ]
  },
  {
   "cell_type": "code",
   "execution_count": 2,
   "id": "2308bab2",
   "metadata": {},
   "outputs": [],
   "source": [
    "# normalize the data\n",
    "x_train, x_test = x_train / 255.0, x_test / 255.0\n",
    "\n",
    "# reshape images to 1D so we can just work with dense layers\n",
    "#For this demo purposes\n",
    "x_train = x_train.reshape(60000, 784)\n",
    "x_test = x_test.reshape(10000, 784)\n",
    "\n",
    "num_classes = 10\n",
    "\n",
    "# One hot encoding for categorical labels\n",
    "y_train = keras.utils.to_categorical(y_train, num_classes)\n",
    "y_test = keras.utils.to_categorical(y_test, num_classes)\n",
    "\n",
    "#Take a subset of train for grid search. Let us take 10% for now\n",
    "from sklearn.model_selection import train_test_split\n",
    "x_grid, x_not_use, y_grid, y_not_use = train_test_split(x_train, y_train, test_size=0.9, random_state=42)\n"
   ]
  },
  {
   "cell_type": "code",
   "execution_count": 3,
   "id": "b43bcecd",
   "metadata": {},
   "outputs": [
    {
     "name": "stderr",
     "output_type": "stream",
     "text": [
      "<ipython-input-3-d238a6f8badd>:26: DeprecationWarning: KerasClassifier is deprecated, use Sci-Keras (https://github.com/adriangb/scikeras) instead. See https://www.adriangb.com/scikeras/stable/migration.html for help migrating.\n",
      "  model = KerasClassifier(build_fn=define_model,\n"
     ]
    },
    {
     "name": "stdout",
     "output_type": "stream",
     "text": [
      "Epoch 1/10\n",
      "60/60 [==============================] - 1s 2ms/step - loss: 1.2293 - acc: 0.6200\n",
      "Epoch 2/10\n",
      "60/60 [==============================] - 0s 2ms/step - loss: 0.4602 - acc: 0.8650\n",
      "Epoch 3/10\n",
      "60/60 [==============================] - 0s 2ms/step - loss: 0.3343 - acc: 0.9042\n",
      "Epoch 4/10\n",
      "60/60 [==============================] - 0s 2ms/step - loss: 0.2728 - acc: 0.9182\n",
      "Epoch 5/10\n",
      "60/60 [==============================] - 0s 2ms/step - loss: 0.2347 - acc: 0.9290\n",
      "Epoch 6/10\n",
      "60/60 [==============================] - 0s 2ms/step - loss: 0.2018 - acc: 0.9435\n",
      "Epoch 7/10\n",
      "60/60 [==============================] - 0s 2ms/step - loss: 0.1770 - acc: 0.9485\n",
      "Epoch 8/10\n",
      "60/60 [==============================] - 0s 2ms/step - loss: 0.1639 - acc: 0.9522\n",
      "Epoch 9/10\n",
      "60/60 [==============================] - 0s 2ms/step - loss: 0.1466 - acc: 0.9567\n",
      "Epoch 10/10\n",
      "60/60 [==============================] - 0s 2ms/step - loss: 0.1244 - acc: 0.9633\n"
     ]
    }
   ],
   "source": [
    "# build the model\n",
    "input_dim = x_grid.shape[1]\n",
    "\n",
    "\n",
    "#NOTE: Add default optimizer, otherwise throws error 'optimizer not legal parameter'\n",
    "def define_model(activation='relu', init_weights='uniform', optimizer='Adam'):   \n",
    "    model = Sequential()\n",
    "    model.add(Dense(64, activation=activation, kernel_initializer=init_weights, \n",
    "                    input_dim = input_dim)) \n",
    "    model.add(Dropout(0.1))\n",
    "    model.add(Dense(64, kernel_initializer=init_weights, activation=activation))\n",
    "    model.add(Dense(num_classes, kernel_initializer=init_weights, activation='softmax'))\n",
    "    \n",
    "    # compile the model\n",
    "    model.compile(loss='categorical_crossentropy',\n",
    "                  optimizer=optimizer,      \n",
    "                  metrics=['acc'])\n",
    "    return model\n",
    "\n",
    "# implement the Scikit-Learn classifier interface\n",
    "# requires model defined as a function, which we already have\n",
    "from keras.wrappers.scikit_learn import KerasClassifier\n",
    "batch_size = 100\n",
    "epochs = 10\n",
    "\n",
    "model = KerasClassifier(build_fn=define_model, \n",
    "                        epochs=epochs, \n",
    "                        batch_size = batch_size, \n",
    "                        verbose=1)\n",
    "\n",
    "activation = ['softmax', 'relu', 'sigmoid']\n",
    "#Also try softplus, tanh, linear, hard_sigmoid \n",
    "init_weights = ['uniform', 'normal', 'he_uniform']\n",
    "#Also try lecun_uniform, he_normal, glorot_normal, etc. \n",
    "optimizer = ['SGD', 'RMSprop', 'Adam']\n",
    "\n",
    "param_grid = dict(activation=activation, init_weights=init_weights, optimizer=optimizer)\n",
    "\n",
    "#n_jobs=4 uses 4 CPUs. Try not to do -1 on your system as it may hang!!!\n",
    "# -1 refers to using all available CPUs\n",
    "#Cross validation, cv=3\n",
    "grid = GridSearchCV(estimator=model, param_grid=param_grid, n_jobs=4, cv=3)\n",
    "\n",
    "grid_result = grid.fit(x_grid, y_grid)\n"
   ]
  },
  {
   "cell_type": "code",
   "execution_count": 4,
   "id": "f61cd8cc",
   "metadata": {},
   "outputs": [
    {
     "name": "stdout",
     "output_type": "stream",
     "text": [
      "Best: 0.930333 using {'activation': 'relu', 'init_weights': 'he_uniform', 'optimizer': 'Adam'}\n",
      "Mean = 0.112333 (std=0.007487) with: {'activation': 'softmax', 'init_weights': 'uniform', 'optimizer': 'SGD'}\n",
      "Mean = 0.330833 (std=0.161890) with: {'activation': 'softmax', 'init_weights': 'uniform', 'optimizer': 'RMSprop'}\n",
      "Mean = 0.445667 (std=0.050912) with: {'activation': 'softmax', 'init_weights': 'uniform', 'optimizer': 'Adam'}\n",
      "Mean = 0.112333 (std=0.007487) with: {'activation': 'softmax', 'init_weights': 'normal', 'optimizer': 'SGD'}\n",
      "Mean = 0.323333 (std=0.159168) with: {'activation': 'softmax', 'init_weights': 'normal', 'optimizer': 'RMSprop'}\n",
      "Mean = 0.462167 (std=0.065219) with: {'activation': 'softmax', 'init_weights': 'normal', 'optimizer': 'Adam'}\n",
      "Mean = 0.100333 (std=0.002014) with: {'activation': 'softmax', 'init_weights': 'he_uniform', 'optimizer': 'SGD'}\n",
      "Mean = 0.648167 (std=0.150515) with: {'activation': 'softmax', 'init_weights': 'he_uniform', 'optimizer': 'RMSprop'}\n",
      "Mean = 0.720333 (std=0.028037) with: {'activation': 'softmax', 'init_weights': 'he_uniform', 'optimizer': 'Adam'}\n",
      "Mean = 0.165333 (std=0.046322) with: {'activation': 'relu', 'init_weights': 'uniform', 'optimizer': 'SGD'}\n",
      "Mean = 0.904667 (std=0.004643) with: {'activation': 'relu', 'init_weights': 'uniform', 'optimizer': 'RMSprop'}\n",
      "Mean = 0.906833 (std=0.004732) with: {'activation': 'relu', 'init_weights': 'uniform', 'optimizer': 'Adam'}\n",
      "Mean = 0.452500 (std=0.034708) with: {'activation': 'relu', 'init_weights': 'normal', 'optimizer': 'SGD'}\n",
      "Mean = 0.915000 (std=0.003082) with: {'activation': 'relu', 'init_weights': 'normal', 'optimizer': 'RMSprop'}\n",
      "Mean = 0.913833 (std=0.003923) with: {'activation': 'relu', 'init_weights': 'normal', 'optimizer': 'Adam'}\n",
      "Mean = 0.830667 (std=0.011272) with: {'activation': 'relu', 'init_weights': 'he_uniform', 'optimizer': 'SGD'}\n",
      "Mean = 0.928167 (std=0.006944) with: {'activation': 'relu', 'init_weights': 'he_uniform', 'optimizer': 'RMSprop'}\n",
      "Mean = 0.930333 (std=0.002494) with: {'activation': 'relu', 'init_weights': 'he_uniform', 'optimizer': 'Adam'}\n",
      "Mean = 0.112333 (std=0.007487) with: {'activation': 'sigmoid', 'init_weights': 'uniform', 'optimizer': 'SGD'}\n",
      "Mean = 0.795500 (std=0.018846) with: {'activation': 'sigmoid', 'init_weights': 'uniform', 'optimizer': 'RMSprop'}\n",
      "Mean = 0.838667 (std=0.010266) with: {'activation': 'sigmoid', 'init_weights': 'uniform', 'optimizer': 'Adam'}\n",
      "Mean = 0.112333 (std=0.007487) with: {'activation': 'sigmoid', 'init_weights': 'normal', 'optimizer': 'SGD'}\n",
      "Mean = 0.820167 (std=0.010656) with: {'activation': 'sigmoid', 'init_weights': 'normal', 'optimizer': 'RMSprop'}\n",
      "Mean = 0.851667 (std=0.020762) with: {'activation': 'sigmoid', 'init_weights': 'normal', 'optimizer': 'Adam'}\n",
      "Mean = 0.285000 (std=0.045920) with: {'activation': 'sigmoid', 'init_weights': 'he_uniform', 'optimizer': 'SGD'}\n",
      "Mean = 0.897000 (std=0.003488) with: {'activation': 'sigmoid', 'init_weights': 'he_uniform', 'optimizer': 'RMSprop'}\n",
      "Mean = 0.893000 (std=0.006164) with: {'activation': 'sigmoid', 'init_weights': 'he_uniform', 'optimizer': 'Adam'}\n"
     ]
    }
   ],
   "source": [
    "# summarize results\n",
    "print(\"Best: %f using %s\" % (grid_result.best_score_, grid_result.best_params_))\n",
    "means = grid_result.cv_results_['mean_test_score']\n",
    "stds = grid_result.cv_results_['std_test_score']\n",
    "params = grid_result.cv_results_['params']\n",
    "for mean, stdev, param in zip(means, stds, params):\n",
    "    print(\"Mean = %f (std=%f) with: %r\" % (mean, stdev, param))\n"
   ]
  },
  {
   "cell_type": "code",
   "execution_count": null,
   "id": "314fc2f1",
   "metadata": {},
   "outputs": [],
   "source": []
  }
 ],
 "metadata": {
  "kernelspec": {
   "display_name": "Python 3",
   "language": "python",
   "name": "python3"
  },
  "language_info": {
   "codemirror_mode": {
    "name": "ipython",
    "version": 3
   },
   "file_extension": ".py",
   "mimetype": "text/x-python",
   "name": "python",
   "nbconvert_exporter": "python",
   "pygments_lexer": "ipython3",
   "version": "3.8.8"
  }
 },
 "nbformat": 4,
 "nbformat_minor": 5
}
