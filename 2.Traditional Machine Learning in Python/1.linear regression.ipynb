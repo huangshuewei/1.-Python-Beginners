{
 "cells": [
  {
   "cell_type": "code",
   "execution_count": 1,
   "id": "3c8c29de",
   "metadata": {},
   "outputs": [
    {
     "name": "stdout",
     "output_type": "stream",
     "text": [
      "   time  cells\n",
      "0   0.0    205\n",
      "1   0.5    225\n",
      "2   1.0    238\n",
      "3   1.5    240\n",
      "4   2.0    248\n"
     ]
    },
    {
     "data": {
      "text/plain": [
       "<matplotlib.collections.PathCollection at 0x21c146700d0>"
      ]
     },
     "execution_count": 1,
     "metadata": {},
     "output_type": "execute_result"
    },
    {
     "data": {
      "image/png": "[encoded data removed]",
      "text/plain": [
       "<Figure size 432x288 with 1 Axes>"
      ]
     },
     "metadata": {
      "needs_background": "light"
     },
     "output_type": "display_data"
    }
   ],
   "source": [
    "import pandas as pd\n",
    "import numpy as np\n",
    "import matplotlib.pyplot as plt\n",
    "from sklearn import linear_model\n",
    "\n",
    "df = pd.read_csv(\"other files/cells.csv\")\n",
    "\n",
    "print(df.head())\n",
    "\n",
    "plt.figure()\n",
    "plt.xlabel('time')\n",
    "plt.ylabel('cells')\n",
    "plt.scatter(df['time'],df['cells'],color = 'red',marker='+')"
   ]
  },
  {
   "cell_type": "code",
   "execution_count": 3,
   "id": "8a42ee7b",
   "metadata": {},
   "outputs": [
    {
     "name": "stdout",
     "output_type": "stream",
     "text": [
      "Model score... 0.9784252641866715\n",
      "Predicted # cells... [257.61090909]\n"
     ]
    }
   ],
   "source": [
    "# x independant (time)\n",
    "# y dependant - predict Y\n",
    "\n",
    "x_df = df.drop('cells', axis='columns')\n",
    "y_df = df.cells\n",
    "\n",
    "reg = linear_model.LinearRegression() # create an instance of the model\n",
    "reg.fit(x_df, y_df) # train the model\n",
    "\n",
    "print(\"Model score...\", reg.score(x_df,y_df))\n",
    "print(\"Predicted # cells...\", reg.predict([[2.3]]))"
   ]
  },
  {
   "cell_type": "code",
   "execution_count": 4,
   "id": "8733a4ef",
   "metadata": {},
   "outputs": [
    {
     "name": "stdout",
     "output_type": "stream",
     "text": [
      "From manual calculation, cells =  [257.61090909]\n"
     ]
    }
   ],
   "source": [
    "# Y = mx + c\n",
    "c = reg.intercept_\n",
    "m = reg.coef_\n",
    "\n",
    "print(\"From manual calculation, cells = \", (m*2.3+c))"
   ]
  },
  {
   "cell_type": "code",
   "execution_count": 6,
   "id": "992d28e7",
   "metadata": {},
   "outputs": [
    {
     "name": "stdout",
     "output_type": "stream",
     "text": [
      "   time\n",
      "0   0.1\n",
      "1   0.2\n",
      "2   0.3\n",
      "3   0.4\n",
      "4   0.5\n",
      "[212.33090909 214.38909091 216.44727273 218.50545455 220.56363636\n",
      " 222.62181818 224.68       226.73818182 228.79636364 230.85454545\n",
      " 232.91272727 234.97090909 237.02909091 239.08727273 241.14545455\n",
      " 243.20363636 245.26181818 247.32       249.37818182 251.43636364\n",
      " 253.49454545 255.55272727 257.61090909 259.66909091 261.72727273\n",
      " 263.78545455 265.84363636 267.90181818 269.96       272.01818182\n",
      " 274.07636364 276.13454545 278.19272727 280.25090909 282.30909091\n",
      " 284.36727273 286.42545455 288.48363636 290.54181818 292.6       ]\n"
     ]
    }
   ],
   "source": [
    "cells_predict_df = pd.read_csv(\"other files/cells_predict.csv\")\n",
    "print(cells_predict_df.head())\n",
    "\n",
    "predicted_cells = reg.predict(cells_predict_df)\n",
    "print(predicted_cells)"
   ]
  },
  {
   "cell_type": "code",
   "execution_count": 7,
   "id": "71484904",
   "metadata": {},
   "outputs": [
    {
     "name": "stdout",
     "output_type": "stream",
     "text": [
      "   time       cells\n",
      "0   0.1  212.330909\n",
      "1   0.2  214.389091\n",
      "2   0.3  216.447273\n",
      "3   0.4  218.505455\n",
      "4   0.5  220.563636\n"
     ]
    }
   ],
   "source": [
    "cells_predict_df['cells'] = predicted_cells\n",
    "print(cells_predict_df.head())"
   ]
  },
  {
   "cell_type": "code",
   "execution_count": 8,
   "id": "fd5585d8",
   "metadata": {},
   "outputs": [],
   "source": [
    "cells_predict_df.to_csv(\"other files/predicted_cells.csv\")"
   ]
  },
  {
   "cell_type": "code",
   "execution_count": 11,
   "id": "a6d1b29a",
   "metadata": {},
   "outputs": [
    {
     "name": "stdout",
     "output_type": "stream",
     "text": [
      "2    238\n",
      "6    265\n",
      "8    301\n",
      "5    260\n",
      "7    283\n",
      "Name: cells, dtype: int64 [229.66081871 270.73684211 291.2748538  260.46783626 281.00584795]\n",
      "Mean sq. error between y_test and predicted =  7.677112273861912\n"
     ]
    }
   ],
   "source": [
    "## Splitting data into training and testing sets for machine learning\n",
    "\n",
    "# x independant (time)\n",
    "# y dependant - predict Y\n",
    "\n",
    "x_df = df.drop('cells', axis='columns')\n",
    "y_df = df.cells\n",
    "\n",
    "from sklearn.model_selection import train_test_split\n",
    "\n",
    "X_train, X_test, y_train, y_test = train_test_split(x_df, y_df, test_size=0.4, random_state=10)\n",
    "\n",
    "reg = linear_model.LinearRegression()\n",
    "reg.fit(X_train, y_train)\n",
    "\n",
    "prediction_test = reg.predict(X_test)\n",
    "print(y_test, prediction_test)\n",
    "print(\"Mean sq. error between y_test and predicted = \", np.mean(prediction_test-y_test)**2)"
   ]
  },
  {
   "cell_type": "code",
   "execution_count": 13,
   "id": "9e0e9f9f",
   "metadata": {},
   "outputs": [
    {
     "data": {
      "text/plain": [
       "<matplotlib.collections.LineCollection at 0x21c16561700>"
      ]
     },
     "execution_count": 13,
     "metadata": {},
     "output_type": "execute_result"
    },
    {
     "data": {
      "image/png": "[encoded data removed]",
      "text/plain": [
       "<Figure size 432x288 with 1 Axes>"
      ]
     },
     "metadata": {
      "needs_background": "light"
     },
     "output_type": "display_data"
    }
   ],
   "source": [
    "# Residual plot\n",
    "plt.figure()\n",
    "plt.scatter(prediction_test, prediction_test-y_test)\n",
    "plt.hlines(y = 0, xmin=200, xmax=310, colors=\"red\")"
   ]
  },
  {
   "cell_type": "code",
   "execution_count": null,
   "id": "76294b10",
   "metadata": {},
   "outputs": [],
   "source": []
  }
 ],
 "metadata": {
  "kernelspec": {
   "display_name": "Python 3",
   "language": "python",
   "name": "python3"
  },
  "language_info": {
   "codemirror_mode": {
    "name": "ipython",
    "version": 3
   },
   "file_extension": ".py",
   "mimetype": "text/x-python",
   "name": "python",
   "nbconvert_exporter": "python",
   "pygments_lexer": "ipython3",
   "version": "3.8.8"
  }
 },
 "nbformat": 4,
 "nbformat_minor": 5
}
