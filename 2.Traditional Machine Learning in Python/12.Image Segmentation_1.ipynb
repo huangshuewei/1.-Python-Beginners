{
 "cells": [
  {
   "cell_type": "code",
   "execution_count": 2,
   "id": "9fe60387",
   "metadata": {},
   "outputs": [
    {
     "name": "stdout",
     "output_type": "stream",
     "text": [
      "   Original_Image  Gabor1  Gabor2  Gabor3  Gabor4  Gabor5  Gabor6  Gabor7  \\\n",
      "0               0       0       0       0       0       0       0       0   \n",
      "1               0       0       0       0       0       0       0       0   \n",
      "2               0       0       0       0       0       0       0       0   \n",
      "3               0       0       0       0       0       0       0       0   \n",
      "4               0       0       0       0       0       0       0       0   \n",
      "\n",
      "   Gabor8  Gabor9  ...  Gabor23  Gabor24  Gabor25  Gabor26  Gabor27  Gabor28  \\\n",
      "0       0       0  ...        0        0        0        0        0        0   \n",
      "1       0       0  ...        0        0        0        0        0        0   \n",
      "2       0       0  ...        0        0        0        0        0        0   \n",
      "3       0       0  ...        0        0        0        0        0        0   \n",
      "4       0       0  ...        0        0        0        0        0        0   \n",
      "\n",
      "   Gabor29  Gabor30  Gabor31  Gabor32  \n",
      "0        0        0        0        0  \n",
      "1        0        0        0        0  \n",
      "2        0        0        0        0  \n",
      "3        0        0        0        0  \n",
      "4        0        0        0        0  \n",
      "\n",
      "[5 rows x 33 columns]\n"
     ]
    }
   ],
   "source": [
    "import numpy as np\n",
    "import cv2\n",
    "import pandas as pd\n",
    "\n",
    "img = cv2.imread('image/Train_images/Sandstone_Versa0000.tif')\n",
    "img = cv2.cvtColor(img, cv2.COLOR_BGR2GRAY)\n",
    "\n",
    "df = pd.DataFrame()\n",
    "\n",
    "# Add original pixel values to the data frame as feature 1\n",
    "img2 = img.reshape(-1)\n",
    "df['Original_Image'] = img2\n",
    "\n",
    "# Add other features\n",
    "\n",
    "# Gabor features\n",
    "num = 1\n",
    "kernels = []\n",
    "for theta in range(2):\n",
    "    theta = theta/4. * np.pi\n",
    "    for sigma in (1, 3):\n",
    "        for lamda in np.arange(0, np.pi, np.pi/4):\n",
    "            for gamma in (0.05, 0.5):\n",
    "                #print(theta, sigma, lamda, gamma)\n",
    "                gabor_label = 'Gabor' + str(num)\n",
    "                kernel = cv2.getGaborKernel((9, 9), sigma, theta, lamda, gamma, 0, ktype=cv2.CV_32F)\n",
    "                kernels.append(kernel)\n",
    "                \n",
    "                fimg = cv2.filter2D(img, cv2.CV_8UC3, kernel)\n",
    "                filtered_img = fimg.reshape(-1)\n",
    "                df[gabor_label] = filtered_img\n",
    "                num += 1\n",
    "                # print(gabor_label)\n",
    "\n",
    "print(df.head())"
   ]
  },
  {
   "cell_type": "code",
   "execution_count": 3,
   "id": "acb31a9a",
   "metadata": {},
   "outputs": [
    {
     "name": "stdout",
     "output_type": "stream",
     "text": [
      "<bound method NDFrame.head of          Original_Image  Gabor1  Gabor2  Gabor3  Gabor4  Gabor5  Gabor6  \\\n",
      "0                     0       0       0       0       0       0       0   \n",
      "1                     0       0       0       0       0       0       0   \n",
      "2                     0       0       0       0       0       0       0   \n",
      "3                     0       0       0       0       0       0       0   \n",
      "4                     0       0       0       0       0       0       0   \n",
      "...                 ...     ...     ...     ...     ...     ...     ...   \n",
      "1019899               0       0       0       0       0       0       0   \n",
      "1019900               0       0       0       0       0       0       0   \n",
      "1019901               0       0       0       0       0       0       0   \n",
      "1019902               0       0       0       0       0       0       0   \n",
      "1019903               0       0       0       0       0       0       0   \n",
      "\n",
      "         Gabor7  Gabor8  Gabor9  ...  Gabor24  Gabor25  Gabor26  Gabor27  \\\n",
      "0             0       0       0  ...        0        0        0        0   \n",
      "1             0       0       0  ...        0        0        0        0   \n",
      "2             0       0       0  ...        0        0        0        0   \n",
      "3             0       0       0  ...        0        0        0        0   \n",
      "4             0       0       0  ...        0        0        0        0   \n",
      "...         ...     ...     ...  ...      ...      ...      ...      ...   \n",
      "1019899       0       0       0  ...        0        0        0        0   \n",
      "1019900       0       0       0  ...        0        0        0        0   \n",
      "1019901       0       0       0  ...        0        0        0        0   \n",
      "1019902       0       0       0  ...        0        0        0        0   \n",
      "1019903       0       0       0  ...        0        0        0        0   \n",
      "\n",
      "         Gabor28  Gabor29  Gabor30  Gabor31  Gabor32  Canny Edge  \n",
      "0              0        0        0        0        0           0  \n",
      "1              0        0        0        0        0           0  \n",
      "2              0        0        0        0        0           0  \n",
      "3              0        0        0        0        0           0  \n",
      "4              0        0        0        0        0           0  \n",
      "...          ...      ...      ...      ...      ...         ...  \n",
      "1019899        0        0        0        0        0           0  \n",
      "1019900        0        0        0        0        0           0  \n",
      "1019901        0        0        0        0        0           0  \n",
      "1019902        0        0        0        0        0           0  \n",
      "1019903        0        0        0        0        0           0  \n",
      "\n",
      "[1019904 rows x 34 columns]>\n"
     ]
    }
   ],
   "source": [
    "# Canny edge\n",
    "\n",
    "edges = cv2.Canny(img, 100, 200)\n",
    "edges1 = edges.reshape(-1)\n",
    "df['Canny Edge'] = edges1\n",
    "\n",
    "print(df.head)"
   ]
  },
  {
   "cell_type": "code",
   "execution_count": 5,
   "id": "429aec1f",
   "metadata": {},
   "outputs": [],
   "source": [
    "from skimage.filters import roberts, sobel, scharr, prewitt\n",
    "\n",
    "edge_roberts = roberts(img)\n",
    "edge_roberts1 = edge_roberts.reshape(-1)\n",
    "df['Roberts'] = edge_roberts1\n",
    "\n",
    "edge_sobel = sobel(img)\n",
    "edge_sobel1 = edge_sobel.reshape(-1)\n",
    "df['sobel'] = edge_sobel1\n",
    "\n",
    "edge_scharr = scharr(img)\n",
    "edge_scharr1 = edge_scharr.reshape(-1)\n",
    "df['scharr'] = edge_scharr1\n",
    "\n",
    "edge_prewitt = prewitt(img)\n",
    "edge_prewitt1 = edge_prewitt.reshape(-1)\n",
    "df['prewitt'] = edge_prewitt1\n"
   ]
  },
  {
   "cell_type": "code",
   "execution_count": 6,
   "id": "3263feb9",
   "metadata": {},
   "outputs": [],
   "source": [
    "# Gaussian filters\n",
    "from scipy import ndimage as nd\n",
    "\n",
    "gaussian_img = nd.gaussian_filter(img, sigma=3)\n",
    "gaussian_img1 = gaussian_img.reshape(-1)\n",
    "df['gaussian_s3'] = gaussian_img1\n",
    "\n",
    "gaussian_img2 = nd.gaussian_filter(img, sigma=7)\n",
    "gaussian_img3 = gaussian_img2.reshape(-1)\n",
    "df['gaussian_s7'] = gaussian_img3\n",
    "\n",
    "# median filter\n",
    "median_img = nd.median_filter(img, size=3)\n",
    "median_img2 = median_img.reshape(-1)\n",
    "df['median_img'] = median_img2"
   ]
  },
  {
   "cell_type": "code",
   "execution_count": 7,
   "id": "c84d3083",
   "metadata": {},
   "outputs": [
    {
     "name": "stdout",
     "output_type": "stream",
     "text": [
      "<bound method NDFrame.head of          Original_Image  Gabor1  Gabor2  Gabor3  Gabor4  Gabor5  Gabor6  \\\n",
      "0                     0       0       0       0       0       0       0   \n",
      "1                     0       0       0       0       0       0       0   \n",
      "2                     0       0       0       0       0       0       0   \n",
      "3                     0       0       0       0       0       0       0   \n",
      "4                     0       0       0       0       0       0       0   \n",
      "...                 ...     ...     ...     ...     ...     ...     ...   \n",
      "1019899               0       0       0       0       0       0       0   \n",
      "1019900               0       0       0       0       0       0       0   \n",
      "1019901               0       0       0       0       0       0       0   \n",
      "1019902               0       0       0       0       0       0       0   \n",
      "1019903               0       0       0       0       0       0       0   \n",
      "\n",
      "         Gabor7  Gabor8  Gabor9  ...  Gabor31  Gabor32  Canny Edge  Roberts  \\\n",
      "0             0       0       0  ...        0        0           0      0.0   \n",
      "1             0       0       0  ...        0        0           0      0.0   \n",
      "2             0       0       0  ...        0        0           0      0.0   \n",
      "3             0       0       0  ...        0        0           0      0.0   \n",
      "4             0       0       0  ...        0        0           0      0.0   \n",
      "...         ...     ...     ...  ...      ...      ...         ...      ...   \n",
      "1019899       0       0       0  ...        0        0           0      0.0   \n",
      "1019900       0       0       0  ...        0        0           0      0.0   \n",
      "1019901       0       0       0  ...        0        0           0      0.0   \n",
      "1019902       0       0       0  ...        0        0           0      0.0   \n",
      "1019903       0       0       0  ...        0        0           0      0.0   \n",
      "\n",
      "         sobel  scharr  prewitt  gaussian_s3  gaussian_s7  median_img  \n",
      "0          0.0     0.0      0.0            0            0           0  \n",
      "1          0.0     0.0      0.0            0            0           0  \n",
      "2          0.0     0.0      0.0            0            0           0  \n",
      "3          0.0     0.0      0.0            0            0           0  \n",
      "4          0.0     0.0      0.0            0            0           0  \n",
      "...        ...     ...      ...          ...          ...         ...  \n",
      "1019899    0.0     0.0      0.0            0            0           0  \n",
      "1019900    0.0     0.0      0.0            0            0           0  \n",
      "1019901    0.0     0.0      0.0            0            0           0  \n",
      "1019902    0.0     0.0      0.0            0            0           0  \n",
      "1019903    0.0     0.0      0.0            0            0           0  \n",
      "\n",
      "[1019904 rows x 41 columns]>\n"
     ]
    }
   ],
   "source": [
    "print(df.head)"
   ]
  },
  {
   "cell_type": "code",
   "execution_count": 8,
   "id": "c21cdfd2",
   "metadata": {},
   "outputs": [
    {
     "name": "stdout",
     "output_type": "stream",
     "text": [
      "<bound method NDFrame.head of          Original_Image  Gabor1  Gabor2  Gabor3  Gabor4  Gabor5  Gabor6  \\\n",
      "0                     0       0       0       0       0       0       0   \n",
      "1                     0       0       0       0       0       0       0   \n",
      "2                     0       0       0       0       0       0       0   \n",
      "3                     0       0       0       0       0       0       0   \n",
      "4                     0       0       0       0       0       0       0   \n",
      "...                 ...     ...     ...     ...     ...     ...     ...   \n",
      "1019899               0       0       0       0       0       0       0   \n",
      "1019900               0       0       0       0       0       0       0   \n",
      "1019901               0       0       0       0       0       0       0   \n",
      "1019902               0       0       0       0       0       0       0   \n",
      "1019903               0       0       0       0       0       0       0   \n",
      "\n",
      "         Gabor7  Gabor8  Gabor9  ...  Gabor32  Canny Edge  Roberts  sobel  \\\n",
      "0             0       0       0  ...        0           0      0.0    0.0   \n",
      "1             0       0       0  ...        0           0      0.0    0.0   \n",
      "2             0       0       0  ...        0           0      0.0    0.0   \n",
      "3             0       0       0  ...        0           0      0.0    0.0   \n",
      "4             0       0       0  ...        0           0      0.0    0.0   \n",
      "...         ...     ...     ...  ...      ...         ...      ...    ...   \n",
      "1019899       0       0       0  ...        0           0      0.0    0.0   \n",
      "1019900       0       0       0  ...        0           0      0.0    0.0   \n",
      "1019901       0       0       0  ...        0           0      0.0    0.0   \n",
      "1019902       0       0       0  ...        0           0      0.0    0.0   \n",
      "1019903       0       0       0  ...        0           0      0.0    0.0   \n",
      "\n",
      "         scharr  prewitt  gaussian_s3  gaussian_s7  median_img  Labels  \n",
      "0           0.0      0.0            0            0           0      29  \n",
      "1           0.0      0.0            0            0           0      29  \n",
      "2           0.0      0.0            0            0           0      29  \n",
      "3           0.0      0.0            0            0           0      29  \n",
      "4           0.0      0.0            0            0           0      29  \n",
      "...         ...      ...          ...          ...         ...     ...  \n",
      "1019899     0.0      0.0            0            0           0      29  \n",
      "1019900     0.0      0.0            0            0           0      29  \n",
      "1019901     0.0      0.0            0            0           0      29  \n",
      "1019902     0.0      0.0            0            0           0      29  \n",
      "1019903     0.0      0.0            0            0           0      29  \n",
      "\n",
      "[1019904 rows x 42 columns]>\n"
     ]
    }
   ],
   "source": [
    "labeled_img = cv2.imread('image/Train_masks/Sandstone_Versa0000.tif')\n",
    "labeled_img = cv2.cvtColor(labeled_img, cv2.COLOR_BGR2GRAY)\n",
    "labeled_img2 = labeled_img.reshape(-1)\n",
    "\n",
    "df['Labels'] = labeled_img2\n",
    "\n",
    "print(df.head)"
   ]
  },
  {
   "cell_type": "code",
   "execution_count": 14,
   "id": "da757d33",
   "metadata": {},
   "outputs": [
    {
     "data": {
      "text/plain": [
       "RandomForestClassifier(n_estimators=10, random_state=42)"
      ]
     },
     "execution_count": 14,
     "metadata": {},
     "output_type": "execute_result"
    }
   ],
   "source": [
    "# Dependent variable\n",
    "Y = df['Labels'].values\n",
    "\n",
    "X = df.drop(['Labels'],axis=1)\n",
    "\n",
    "# Split data into train and test\n",
    "from sklearn.model_selection import train_test_split\n",
    "X_train, X_test, y_train, y_test = train_test_split(X, Y, test_size=0.4, random_state=20)\n",
    "\n",
    "# import ML algorithm and train the model\n",
    "\n",
    "from sklearn.ensemble import RandomForestClassifier\n",
    "\n",
    "model = RandomForestClassifier(n_estimators=10, random_state=42)\n",
    "model.fit(X_train, y_train)\n"
   ]
  },
  {
   "cell_type": "code",
   "execution_count": 15,
   "id": "6b9c5f93",
   "metadata": {},
   "outputs": [
    {
     "name": "stdout",
     "output_type": "stream",
     "text": [
      "Acc =  0.9812408998877347\n"
     ]
    }
   ],
   "source": [
    "pred_test = model.predict(X_test)\n",
    "\n",
    "from sklearn import metrics\n",
    "\n",
    "print(\"Acc = \", metrics.accuracy_score(y_test,pred_test))\n"
   ]
  },
  {
   "cell_type": "code",
   "execution_count": 17,
   "id": "adfa5a16",
   "metadata": {},
   "outputs": [
    {
     "name": "stdout",
     "output_type": "stream",
     "text": [
      "median_img        2.809678e-01\n",
      "Original_Image    2.496731e-01\n",
      "gaussian_s3       1.938178e-01\n",
      "Gabor4            8.640544e-02\n",
      "Gabor11           6.667802e-02\n",
      "gaussian_s7       2.840241e-02\n",
      "Gabor6            1.469366e-02\n",
      "prewitt           9.330256e-03\n",
      "scharr            7.463699e-03\n",
      "Gabor24           7.221955e-03\n",
      "sobel             6.811571e-03\n",
      "Gabor21           5.564296e-03\n",
      "Gabor5            5.559876e-03\n",
      "Roberts           5.479978e-03\n",
      "Gabor3            5.061718e-03\n",
      "Gabor7            3.999706e-03\n",
      "Gabor23           3.352778e-03\n",
      "Gabor8            3.076057e-03\n",
      "Gabor31           2.646323e-03\n",
      "Gabor29           2.605706e-03\n",
      "Gabor32           2.444738e-03\n",
      "Gabor12           2.244261e-03\n",
      "Gabor30           2.208189e-03\n",
      "Canny Edge        1.788450e-03\n",
      "Gabor22           1.250179e-03\n",
      "Gabor20           5.914109e-04\n",
      "Gabor28           4.261819e-04\n",
      "Gabor27           2.220233e-04\n",
      "Gabor14           1.120127e-05\n",
      "Gabor13           9.141213e-07\n",
      "Gabor16           2.960422e-07\n",
      "Gabor26           0.000000e+00\n",
      "Gabor25           0.000000e+00\n",
      "Gabor1            0.000000e+00\n",
      "Gabor19           0.000000e+00\n",
      "Gabor18           0.000000e+00\n",
      "Gabor17           0.000000e+00\n",
      "Gabor15           0.000000e+00\n",
      "Gabor10           0.000000e+00\n",
      "Gabor9            0.000000e+00\n",
      "Gabor2            0.000000e+00\n",
      "dtype: float64\n"
     ]
    }
   ],
   "source": [
    "# Feature ranking\n",
    "\n",
    "importance = list(model.feature_importances_)\n",
    "feature_list = list(X.columns)\n",
    "feature_imp = pd.Series(model.feature_importances_, index=feature_list).sort_values(ascending=False)\n",
    "\n",
    "print(feature_imp.head(41))"
   ]
  },
  {
   "cell_type": "code",
   "execution_count": 19,
   "id": "33df45b9",
   "metadata": {},
   "outputs": [],
   "source": [
    "# Save the model\n",
    "import pickle\n",
    "\n",
    "filename = 'sandstone_model'\n",
    "pickle.dump(model, open(filename, 'wb'))\n",
    "\n"
   ]
  },
  {
   "cell_type": "code",
   "execution_count": 20,
   "id": "7f993dde",
   "metadata": {},
   "outputs": [
    {
     "data": {
      "image/png": "[encoded data removed]",
      "text/plain": [
       "<Figure size 432x288 with 1 Axes>"
      ]
     },
     "metadata": {
      "needs_background": "light"
     },
     "output_type": "display_data"
    }
   ],
   "source": [
    "# load the model\n",
    "load_model = pickle.load(open(filename, 'rb'))\n",
    "result = load_model.predict(X)\n",
    "\n",
    "segmented = result.reshape((img.shape))\n",
    "\n",
    "from matplotlib import pyplot as plt\n",
    "\n",
    "plt.figure()\n",
    "plt.imshow(segmented, cmap='jet')\n",
    "\n",
    "plt.imsave('segmented_rock.jpg', segmented, cmap='jet')"
   ]
  },
  {
   "cell_type": "code",
   "execution_count": null,
   "id": "f04d45ca",
   "metadata": {},
   "outputs": [],
   "source": []
  }
 ],
 "metadata": {
  "kernelspec": {
   "display_name": "Python 3",
   "language": "python",
   "name": "python3"
  },
  "language_info": {
   "codemirror_mode": {
    "name": "ipython",
    "version": 3
   },
   "file_extension": ".py",
   "mimetype": "text/x-python",
   "name": "python",
   "nbconvert_exporter": "python",
   "pygments_lexer": "ipython3",
   "version": "3.8.8"
  }
 },
 "nbformat": 4,
 "nbformat_minor": 5
}
