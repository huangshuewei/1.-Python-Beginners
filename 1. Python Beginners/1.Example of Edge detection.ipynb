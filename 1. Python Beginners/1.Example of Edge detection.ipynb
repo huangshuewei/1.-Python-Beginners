{
 "cells": [
  {
   "cell_type": "code",
   "execution_count": 1,
   "id": "4d2e48c3",
   "metadata": {},
   "outputs": [],
   "source": [
    "import cv2\n",
    "from skimage.filters import sobel"
   ]
  },
  {
   "cell_type": "code",
   "execution_count": 2,
   "id": "6a78d448",
   "metadata": {},
   "outputs": [],
   "source": [
    "img = cv2.imread(\"test_image.jpg\",0)\n",
    "img2 = sobel(img)"
   ]
  },
  {
   "cell_type": "code",
   "execution_count": 3,
   "id": "4a9ebc6d",
   "metadata": {},
   "outputs": [
    {
     "name": "stdout",
     "output_type": "stream",
     "text": [
      "(513, 639)\n"
     ]
    },
    {
     "data": {
      "text/plain": [
       "<function destroyAllWindows>"
      ]
     },
     "execution_count": 3,
     "metadata": {},
     "output_type": "execute_result"
    }
   ],
   "source": [
    "cv2.imshow(\"pic\",img)\n",
    "cv2.imshow(\"edge\",img2)\n",
    "print(img.shape)\n",
    "\n",
    "cv2.waitKey(0)\n",
    "cv2.destroyAllWindows"
   ]
  },
  {
   "cell_type": "code",
   "execution_count": 5,
   "id": "c515d617",
   "metadata": {},
   "outputs": [
    {
     "name": "stdout",
     "output_type": "stream",
     "text": [
      "[[46 69 85 ...  0  0  0]\n",
      " [49 67 75 ...  0  0  0]\n",
      " [37 53 60 ...  0  0  0]\n",
      " ...\n",
      " [15 13 12 ... 18  7  2]\n",
      " [27 23 20 ... 33 18  7]\n",
      " [41 33 22 ... 41 31 12]]\n"
     ]
    }
   ],
   "source": [
    "print(img)"
   ]
  },
  {
   "cell_type": "code",
   "execution_count": null,
   "id": "6aafd744",
   "metadata": {},
   "outputs": [],
   "source": []
  }
 ],
 "metadata": {
  "kernelspec": {
   "display_name": "Python 3",
   "language": "python",
   "name": "python3"
  },
  "language_info": {
   "codemirror_mode": {
    "name": "ipython",
    "version": 3
   },
   "file_extension": ".py",
   "mimetype": "text/x-python",
   "name": "python",
   "nbconvert_exporter": "python",
   "pygments_lexer": "ipython3",
   "version": "3.8.8"
  }
 },
 "nbformat": 4,
 "nbformat_minor": 5
}
