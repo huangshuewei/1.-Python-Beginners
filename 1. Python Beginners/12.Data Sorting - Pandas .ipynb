{
 "cells": [
  {
   "cell_type": "code",
   "execution_count": 1,
   "id": "83905604",
   "metadata": {},
   "outputs": [
    {
     "name": "stdout",
     "output_type": "stream",
     "text": [
      "  Unnamed: 0   Image  Manual  Manual2  Auto_th_2  Auto_th_3  Auto_th_4\n",
      "0       Set1  Image1    92.0     93.0         70         87         82\n",
      "1       Set1  Image2    87.0     83.0         60         85         83\n",
      "2       Set1  Image3   104.0     98.0         74         99         94\n",
      "3       Set1  Image4    99.0      NaN         73        101        109\n",
      "4       Set1  Image5    89.0      NaN         59         90         67\n",
      "           Manual    Manual2   Auto_th_2   Auto_th_3   Auto_th_4\n",
      "count   94.000000   3.000000  100.000000  100.000000  100.000000\n",
      "mean   100.021277  91.333333   76.370000   97.580000   93.210000\n",
      "std     11.285140   7.637626   11.971055   12.327337   14.128769\n",
      "min     80.000000  83.000000   55.000000   71.000000   63.000000\n",
      "25%     90.250000  88.000000   67.750000   89.500000   83.750000\n",
      "50%    101.000000  93.000000   74.500000   98.500000   93.000000\n",
      "75%    108.000000  95.500000   85.000000  106.000000  103.250000\n",
      "max    120.000000  98.000000  109.000000  124.000000  129.000000\n"
     ]
    }
   ],
   "source": [
    "import pandas as pd\n",
    "\n",
    "df = pd.read_csv('grains/manual_vs_auto.csv')\n",
    "\n",
    "print(df.head())\n",
    "print(df.describe())"
   ]
  },
  {
   "cell_type": "code",
   "execution_count": 2,
   "id": "37cdd084",
   "metadata": {},
   "outputs": [
    {
     "name": "stdout",
     "output_type": "stream",
     "text": [
      "    Manual  Auto_th_2\n",
      "34    80.0         58\n",
      "96    80.0         66\n",
      "93    81.0         65\n",
      "66    81.0         65\n",
      "44    82.0         67\n",
      "..     ...        ...\n",
      "32     NaN         66\n",
      "59     NaN         74\n",
      "79     NaN         69\n",
      "82     NaN         64\n",
      "94     NaN        104\n",
      "\n",
      "[100 rows x 2 columns]\n",
      "   Unnamed: 0    Image  Manual  Manual2  Auto_th_2  Auto_th_3  Auto_th_4\n",
      "20       Set1  Image21    89.0      NaN         65         94         86\n",
      "21       Set1  Image22    88.0      NaN         66         96         83\n",
      "22       Set1  Image23   106.0      NaN         71        112        105\n",
      "23       Set1  Image24   107.0      NaN         92         91        111\n",
      "24       Set1  Image25   108.0      NaN         93        113        115\n",
      "25       Set2  Image26   102.0      NaN         85        103        105\n",
      "26       Set2  Image27    93.0      NaN         76         84         98\n",
      "27       Set2  Image28    83.0      NaN         62         71         87\n",
      "28       Set2  Image29   110.0      NaN         92        117         85\n",
      "29       Set2  Image30    89.0      NaN         70         96         81\n",
      "    Manual  Auto_th_2\n",
      "20    89.0         65\n",
      "21    88.0         66\n",
      "22   106.0         71\n",
      "23   107.0         92\n",
      "24   108.0         93\n",
      "25   102.0         85\n",
      "26    93.0         76\n",
      "27    83.0         62\n",
      "28   110.0         92\n",
      "29    89.0         70\n",
      "30   115.0         77\n"
     ]
    }
   ],
   "source": [
    "# Data sorting\n",
    "# according to 'Manual'\n",
    "# check the result through ['Manual', 'Auto_th_2']\n",
    "\n",
    "df2 = df.sort_values('Manual',ascending=True)\n",
    "print(df2[['Manual', 'Auto_th_2']])\n",
    "'''\n",
    "    Manual  Auto_th_2\n",
    "34    80.0         58\n",
    "96    80.0         66\n",
    "93    81.0         65\n",
    "66    81.0         65\n",
    "44    82.0         67\n",
    "..     ...        ...\n",
    "32     NaN         66\n",
    "59     NaN         74\n",
    "79     NaN         69\n",
    "82     NaN         64\n",
    "94     NaN        104\n",
    "'''\n",
    "\n",
    "# two methods to get the range of data\n",
    "\n",
    "print(df[20:30]) # not include 30\n",
    "\n",
    "print(df.loc[20:30, ['Manual', 'Auto_th_2']]) # include 30"
   ]
  },
  {
   "cell_type": "code",
   "execution_count": 3,
   "id": "a0a1303e",
   "metadata": {},
   "outputs": [
    {
     "name": "stdout",
     "output_type": "stream",
     "text": [
      "   Unnamed: 0    Image  Manual  Manual2  Auto_th_2  Auto_th_3  Auto_th_4\n",
      "25       Set2  Image26   102.0      NaN         85        103        105\n",
      "26       Set2  Image27    93.0      NaN         76         84         98\n",
      "27       Set2  Image28    83.0      NaN         62         71         87\n",
      "28       Set2  Image29   110.0      NaN         92        117         85\n",
      "29       Set2  Image30    89.0      NaN         70         96         81\n",
      "120.0\n"
     ]
    }
   ],
   "source": [
    "# get set2 data\n",
    "\n",
    "set2_df = df[df['Unnamed: 0'] == 'Set2']\n",
    "\n",
    "print(set2_df.head(5))\n",
    "'''\n",
    "   Unnamed: 0    Image  Manual  Manual2  Auto_th_2  Auto_th_3  Auto_th_4\n",
    "25       Set2  Image26   102.0      NaN         85        103        105\n",
    "26       Set2  Image27    93.0      NaN         76         84         98\n",
    "27       Set2  Image28    83.0      NaN         62         71         87\n",
    "28       Set2  Image29   110.0      NaN         92        117         85\n",
    "29       Set2  Image30    89.0      NaN         70         96         81\n",
    "'''\n",
    "\n",
    "# get the max value from 'Manual' column\n",
    "\n",
    "print(max(set2_df['Manual']))"
   ]
  },
  {
   "cell_type": "code",
   "execution_count": 4,
   "id": "4a011d0d",
   "metadata": {},
   "outputs": [
    {
     "name": "stdout",
     "output_type": "stream",
     "text": [
      "  Unnamed: 0   Image  Manual  Manual2  Auto_th_2  Auto_th_3  Auto_th_4\n",
      "2       Set1  Image3   104.0     98.0         74         99         94\n",
      "5       Set1  Image6   115.0      NaN         82        124        105\n",
      "6       Set1  Image7   102.0      NaN         68        103         93\n",
      "7       Set1  Image8   117.0      NaN         77        122         88\n",
      "8       Set1  Image9   104.0      NaN         88         99        112\n"
     ]
    }
   ],
   "source": [
    "# get data that 'Manual' larger than 100.\n",
    "\n",
    "print(df[df['Manual'] > 100.].head(5)) # print the values > 100"
   ]
  },
  {
   "cell_type": "code",
   "execution_count": 5,
   "id": "3c27eff7",
   "metadata": {},
   "outputs": [
    {
     "name": "stdout",
     "output_type": "stream",
     "text": [
      "  Unnamed: 0   Image  Manual  Manual2  Auto_th_2  Auto_th_3  Auto_th_4\n",
      "2       Set1  Image3   104.0     98.0         74         99         94\n",
      "5       Set1  Image6   115.0      NaN         82        124        105\n",
      "6       Set1  Image7   102.0      NaN         68        103         93\n",
      "7       Set1  Image8   117.0      NaN         77        122         88\n",
      "8       Set1  Image9   104.0      NaN         88         99        112\n"
     ]
    }
   ],
   "source": [
    "# get data that 'Manual' larger than 100 and 'Auto_th_2' smaller than 100.\n",
    "\n",
    "print(df[(df['Manual'] > 100.) & (df['Auto_th_2'] < 100.)].head(5))"
   ]
  },
  {
   "cell_type": "code",
   "execution_count": 6,
   "id": "1f747f82",
   "metadata": {},
   "outputs": [
    {
     "name": "stdout",
     "output_type": "stream",
     "text": [
      "80 92.0\n",
      "76 87.0\n",
      "89 104.0\n",
      "94 99.0\n",
      "72 89.0\n",
      "104 115.0\n",
      "88 102.0\n",
      "96 117.0\n",
      "100 104.0\n",
      "87 103.0\n",
      "75 91.0\n",
      "98 119.0\n",
      "80 nan\n",
      "105 117.0\n",
      "78 91.0\n",
      "65 84.0\n",
      "92 105.0\n",
      "91 112.0\n",
      "79 87.0\n",
      "81 100.0\n",
      "82 89.0\n",
      "82 88.0\n",
      "96 106.0\n",
      "98 107.0\n",
      "107 108.0\n",
      "98 102.0\n",
      "86 93.0\n",
      "73 83.0\n",
      "98 110.0\n",
      "82 89.0\n",
      "103 115.0\n",
      "101 120.0\n",
      "91 nan\n",
      "91 99.0\n",
      "75 80.0\n",
      "92 112.0\n",
      "95 107.0\n",
      "91 108.0\n",
      "98 103.0\n",
      "102 106.0\n",
      "88 95.0\n",
      "78 86.0\n",
      "86 105.0\n",
      "78 86.0\n",
      "75 82.0\n",
      "90 98.0\n",
      "88 98.0\n",
      "88 88.0\n",
      "80 102.0\n",
      "97 101.0\n",
      "69 85.0\n",
      "95 98.0\n",
      "92 105.0\n",
      "105 115.0\n",
      "80 93.0\n",
      "99 101.0\n",
      "94 110.0\n",
      "96 101.0\n",
      "86 101.0\n",
      "84 nan\n",
      "91 92.0\n",
      "92 112.0\n",
      "74 83.0\n",
      "83 99.0\n",
      "97 100.0\n",
      "86 97.0\n",
      "70 81.0\n",
      "103 116.0\n",
      "97 110.0\n",
      "86 104.0\n",
      "82 87.0\n",
      "102 109.0\n",
      "100 101.0\n",
      "68 82.0\n",
      "105 118.0\n",
      "81 88.0\n",
      "87 106.0\n",
      "98 119.0\n",
      "86 105.0\n",
      "82 nan\n",
      "109 119.0\n",
      "99 109.0\n",
      "78 nan\n",
      "87 111.0\n",
      "74 82.0\n",
      "82 91.0\n",
      "99 108.0\n",
      "86 92.0\n",
      "99 110.0\n",
      "99 105.0\n",
      "71 90.0\n",
      "82 89.0\n",
      "115 120.0\n",
      "75 81.0\n",
      "105 nan\n",
      "95 106.0\n",
      "78 80.0\n",
      "87 92.0\n",
      "103 116.0\n",
      "95 99.0\n"
     ]
    }
   ],
   "source": [
    "# Do a calculation by FOR loop in the iteration\n",
    "# df.iterrows() provides the iteration times for the loop\n",
    "# ROW: a row of dara in the number of index\n",
    "\n",
    "for index, row in df.iterrows():\n",
    "    averafe_auto = (row['Auto_th_2'] + row['Auto_th_3'] + row['Auto_th_4'])/3\n",
    "    \n",
    "    # compare compute results with 'Manual'\n",
    "    \n",
    "    print(round(averafe_auto), row['Manual'])\n",
    "\n",
    "\n"
   ]
  },
  {
   "cell_type": "code",
   "execution_count": 7,
   "id": "d3b27bac",
   "metadata": {},
   "outputs": [
    {
     "data": {
      "text/plain": [
       "Unnamed: 0        Set4\n",
       "Image         Image100\n",
       "Manual            99.0\n",
       "Manual2            NaN\n",
       "Auto_th_2           77\n",
       "Auto_th_3          106\n",
       "Auto_th_4          102\n",
       "Name: 99, dtype: object"
      ]
     },
     "execution_count": 7,
     "metadata": {},
     "output_type": "execute_result"
    }
   ],
   "source": [
    "row"
   ]
  },
  {
   "cell_type": "code",
   "execution_count": 8,
   "id": "62f49a12",
   "metadata": {},
   "outputs": [
    {
     "data": {
      "text/plain": [
       "99"
      ]
     },
     "execution_count": 8,
     "metadata": {},
     "output_type": "execute_result"
    }
   ],
   "source": [
    "index"
   ]
  },
  {
   "cell_type": "code",
   "execution_count": null,
   "id": "4dc5aa89",
   "metadata": {},
   "outputs": [],
   "source": []
  }
 ],
 "metadata": {
  "kernelspec": {
   "display_name": "Python 3",
   "language": "python",
   "name": "python3"
  },
  "language_info": {
   "codemirror_mode": {
    "name": "ipython",
    "version": 3
   },
   "file_extension": ".py",
   "mimetype": "text/x-python",
   "name": "python",
   "nbconvert_exporter": "python",
   "pygments_lexer": "ipython3",
   "version": "3.8.8"
  }
 },
 "nbformat": 4,
 "nbformat_minor": 5
}
