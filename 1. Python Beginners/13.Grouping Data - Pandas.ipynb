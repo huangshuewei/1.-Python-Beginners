{
 "cells": [
  {
   "cell_type": "code",
   "execution_count": 1,
   "id": "687a5c2c",
   "metadata": {},
   "outputs": [
    {
     "name": "stdout",
     "output_type": "stream",
     "text": [
      "  Unnamed: 0   Image  Manual  Manual2  Auto_th_2  Auto_th_3  Auto_th_4\n",
      "0       Set1  Image1    92.0     93.0         70         87         82\n",
      "1       Set1  Image2    87.0     83.0         60         85         83\n",
      "2       Set1  Image3   104.0     98.0         74         99         94\n",
      "3       Set1  Image4    99.0      NaN         73        101        109\n",
      "4       Set1  Image5    89.0      NaN         59         90         67\n",
      "  Image_set   Image  Manual  Manual2  Auto_th_2  Auto_th_3  Auto_th_4\n",
      "0      Set1  Image1    92.0     93.0         70         87         82\n",
      "1      Set1  Image2    87.0     83.0         60         85         83\n",
      "2      Set1  Image3   104.0     98.0         74         99         94\n",
      "3      Set1  Image4    99.0      NaN         73        101        109\n",
      "4      Set1  Image5    89.0      NaN         59         90         67\n"
     ]
    },
    {
     "data": {
      "text/plain": [
       "'\\n  Image_set   Image  Manual  Manual2  Auto_th_2  Auto_th_3  Auto_th_4\\n0      Set1  Image1    92.0     93.0         70         87         82\\n1      Set1  Image2    87.0     83.0         60         85         83\\n2      Set1  Image3   104.0     98.0         74         99         94\\n3      Set1  Image4    99.0      NaN         73        101        109\\n4      Set1  Image5    89.0      NaN         59         90         67\\n'"
      ]
     },
     "execution_count": 1,
     "metadata": {},
     "output_type": "execute_result"
    }
   ],
   "source": [
    "import pandas as pd\n",
    "\n",
    "# read csv file\n",
    "\n",
    "df = pd.read_csv('grains/manual_vs_auto.csv')\n",
    "print(df.head())\n",
    "'''\n",
    "  Unnamed: 0   Image  Manual  Manual2  Auto_th_2  Auto_th_3  Auto_th_4\n",
    "0       Set1  Image1    92.0     93.0         70         87         82\n",
    "1       Set1  Image2    87.0     83.0         60         85         83\n",
    "2       Set1  Image3   104.0     98.0         74         99         94\n",
    "3       Set1  Image4    99.0      NaN         73        101        109\n",
    "4       Set1  Image5    89.0      NaN         59         90         67\n",
    "'''\n",
    "\n",
    "\n",
    "# rename 'Unnamed: 0':'Image_set'\n",
    "\n",
    "df = df.rename(columns={'Unnamed: 0':'Image_set'})\n",
    "print(df.head())\n",
    "'''\n",
    "  Image_set   Image  Manual  Manual2  Auto_th_2  Auto_th_3  Auto_th_4\n",
    "0      Set1  Image1    92.0     93.0         70         87         82\n",
    "1      Set1  Image2    87.0     83.0         60         85         83\n",
    "2      Set1  Image3   104.0     98.0         74         99         94\n",
    "3      Set1  Image4    99.0      NaN         73        101        109\n",
    "4      Set1  Image5    89.0      NaN         59         90         67\n",
    "'''"
   ]
  },
  {
   "cell_type": "code",
   "execution_count": 2,
   "id": "029babcf",
   "metadata": {},
   "outputs": [
    {
     "name": "stdout",
     "output_type": "stream",
     "text": [
      "  Image_set   Image  Manual  Auto_th_2  Auto_th_3  Auto_th_4\n",
      "0      Set1  Image1    92.0         70         87         82\n",
      "1      Set1  Image2    87.0         60         85         83\n",
      "2      Set1  Image3   104.0         74         99         94\n",
      "3      Set1  Image4    99.0         73        101        109\n",
      "4      Set1  Image5    89.0         59         90         67\n"
     ]
    }
   ],
   "source": [
    "# remove 'Manual2' with lots of null data\n",
    "\n",
    "df = df.drop('Manual2', axis=1)\n",
    "print(df.head())"
   ]
  },
  {
   "cell_type": "code",
   "execution_count": 3,
   "id": "9cd7ccc1",
   "metadata": {},
   "outputs": [
    {
     "name": "stdout",
     "output_type": "stream",
     "text": [
      "           Image  Manual  Auto_th_2  Auto_th_3  Auto_th_4\n",
      "Image_set                                                \n",
      "Set1          25      24         25         25         25\n",
      "Set2          25      24         25         25         25\n",
      "Set3          25      24         25         25         25\n",
      "Set4          25      22         25         25         25\n",
      "               Manual  Auto_th_2  Auto_th_3  Auto_th_4\n",
      "Image_set                                             \n",
      "Set1       100.666667      72.84      98.04      92.36\n",
      "Set2        98.666667      75.40      98.00      93.44\n",
      "Set3       100.000000      78.48      95.52      94.40\n",
      "Set4       100.818182      78.76      98.76      92.64\n"
     ]
    }
   ],
   "source": [
    "group_by_file = df.groupby(by=['Image_set'])\n",
    "\n",
    "\n",
    "group_by_count = group_by_file.count() # count the number of data from each column in each Set\n",
    "group_by_avg = group_by_file.mean() # compute the mean value of data from each column in each Set\n",
    "\n",
    "print(group_by_count)\n",
    "\n",
    "'''\n",
    "           Image  Manual  Auto_th_2  Auto_th_3  Auto_th_4\n",
    "Image_set                                                \n",
    "Set1          25      24         25         25         25\n",
    "Set2          25      24         25         25         25\n",
    "Set3          25      24         25         25         25\n",
    "Set4          25      22         25         25         25\n",
    "'''\n",
    "\n",
    "print(group_by_avg)\n",
    "\n",
    "'''\n",
    "               Manual  Auto_th_2  Auto_th_3  Auto_th_4\n",
    "Image_set                                             \n",
    "Set1       100.666667      72.84      98.04      92.36\n",
    "Set2        98.666667      75.40      98.00      93.44\n",
    "Set3       100.000000      78.48      95.52      94.40\n",
    "Set4       100.818182      78.76      98.76      92.64\n",
    "'''"
   ]
  },
  {
   "cell_type": "code",
   "execution_count": 4,
   "id": "a2b048c2",
   "metadata": {},
   "outputs": [
    {
     "name": "stdout",
     "output_type": "stream",
     "text": [
      "             Manual   Manual2  Auto_th_2  Auto_th_3  Auto_th_4\n",
      "Manual     1.000000  0.911646   0.738123   0.796569   0.651191\n",
      "Manual2    0.911646  1.000000   0.998625   0.835766   0.704634\n",
      "Auto_th_2  0.738123  0.998625   1.000000   0.615319   0.544969\n",
      "Auto_th_3  0.796569  0.835766   0.615319   1.000000   0.466908\n",
      "Auto_th_4  0.651191  0.704634   0.544969   0.466908   1.000000\n"
     ]
    }
   ],
   "source": [
    "import pandas as pd\n",
    "df = pd.read_csv('grains/manual_vs_auto.csv')\n",
    "\n",
    "# df.corr(): compute correlation\n",
    "\n",
    "print(df.corr())"
   ]
  },
  {
   "cell_type": "code",
   "execution_count": 5,
   "id": "5fd85f14",
   "metadata": {},
   "outputs": [
    {
     "name": "stdout",
     "output_type": "stream",
     "text": [
      "0.7381233054217538\n"
     ]
    }
   ],
   "source": [
    "print(df['Manual'].corr(df['Auto_th_2']))"
   ]
  },
  {
   "cell_type": "code",
   "execution_count": null,
   "id": "1faaa304",
   "metadata": {},
   "outputs": [],
   "source": []
  }
 ],
 "metadata": {
  "kernelspec": {
   "display_name": "Python 3",
   "language": "python",
   "name": "python3"
  },
  "language_info": {
   "codemirror_mode": {
    "name": "ipython",
    "version": 3
   },
   "file_extension": ".py",
   "mimetype": "text/x-python",
   "name": "python",
   "nbconvert_exporter": "python",
   "pygments_lexer": "ipython3",
   "version": "3.8.8"
  }
 },
 "nbformat": 4,
 "nbformat_minor": 5
}
