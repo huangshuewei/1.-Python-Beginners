{
 "cells": [
  {
   "cell_type": "code",
   "execution_count": 1,
   "id": "8de3df94",
   "metadata": {},
   "outputs": [
    {
     "name": "stdout",
     "output_type": "stream",
     "text": [
      "[1, 5, 6, 8, 9, 1, 5, 6, 8, 9]\n",
      "1\n",
      "25\n",
      "36\n",
      "64\n",
      "81\n",
      "Squre: [1, 25, 36, 64, 81]\n"
     ]
    }
   ],
   "source": [
    "a = [1,5,6,8,9] # this is a list\n",
    "print(a*2)\n",
    "\n",
    "squre = []\n",
    "\n",
    "for i in a:\n",
    "    print(i**2)\n",
    "    squre.append(i**2)\n",
    "    \n",
    "print(\"Squre:\", squre)"
   ]
  },
  {
   "cell_type": "code",
   "execution_count": 2,
   "id": "a1834dad",
   "metadata": {},
   "outputs": [
    {
     "name": "stdout",
     "output_type": "stream",
     "text": [
      "[1, 25, 36, 64, 81]\n"
     ]
    }
   ],
   "source": [
    "squre = [i**2 for i in a]\n",
    "\n",
    "print(squre)"
   ]
  },
  {
   "cell_type": "code",
   "execution_count": 3,
   "id": "f26a59fa",
   "metadata": {},
   "outputs": [
    {
     "name": "stdout",
     "output_type": "stream",
     "text": [
      "[36, 64]\n"
     ]
    }
   ],
   "source": [
    "squre = [i**2 for i in a if i%2 == 0] # only process on even numbers\n",
    "\n",
    "print(squre)"
   ]
  },
  {
   "cell_type": "code",
   "execution_count": 4,
   "id": "e1a0df55",
   "metadata": {},
   "outputs": [
    {
     "name": "stdout",
     "output_type": "stream",
     "text": [
      "[1 5 6 8 9]\n",
      "[[1 2 3]\n",
      " [3 4 5]]\n",
      "<class 'numpy.ndarray'>\n",
      "[ 1 25 36 64 81]\n"
     ]
    }
   ],
   "source": [
    "import numpy as np\n",
    "\n",
    "b = np.array(a) # change list into array\n",
    "print(b)\n",
    "\n",
    "c = np.array([[1,2,3],[3,4,5]])\n",
    "print(c)\n",
    "print(type(c))\n",
    "print(b**2)"
   ]
  },
  {
   "cell_type": "code",
   "execution_count": 5,
   "id": "314a6631",
   "metadata": {},
   "outputs": [
    {
     "name": "stdout",
     "output_type": "stream",
     "text": [
      "[[0. 0. 0.]\n",
      " [0. 0. 0.]\n",
      " [0. 0. 0.]]\n",
      "[[1. 1. 1.]\n",
      " [1. 1. 1.]\n",
      " [1. 1. 1.]]\n",
      "[[3 3 3]\n",
      " [3 3 3]\n",
      " [3 3 3]]\n",
      "[[1. 0. 0.]\n",
      " [0. 1. 0.]\n",
      " [0. 0. 1.]]\n",
      "[[0.61083063 0.89143017 0.28127597]\n",
      " [0.74892045 0.48275607 0.34728104]\n",
      " [0.57041711 0.06010283 0.48545788]]\n"
     ]
    }
   ],
   "source": [
    "a0 = np.zeros((3,3))\n",
    "print(a0)\n",
    "a1 = np.ones((3,3))\n",
    "print(a1)\n",
    "a3 = np.full((3,3),3)\n",
    "print(a3)\n",
    "a4 = np.eye(3)\n",
    "print(a4)\n",
    "a5 = np.random.random((3,3))\n",
    "print(a5)"
   ]
  },
  {
   "cell_type": "code",
   "execution_count": 6,
   "id": "0e5dd00a",
   "metadata": {},
   "outputs": [
    {
     "name": "stdout",
     "output_type": "stream",
     "text": [
      "[[1 2 3 4]\n",
      " [4 5 6 7]]\n",
      "[[ 4  5  6  7]\n",
      " [ 8  9 10 11]]\n",
      "[[1 2]\n",
      " [4 5]\n",
      " [8 9]]\n",
      "[[1 2]\n",
      " [4 5]]\n"
     ]
    }
   ],
   "source": [
    "a6 = np.array([[1,2,3,4],[4,5,6,7],[8,9,10,11]])\n",
    "b = a6[:2]\n",
    "print(b)\n",
    "b = a6[1:3]\n",
    "print(b)\n",
    "b = a6[:,:2]\n",
    "print(b)\n",
    "b = a6[:2,:2]\n",
    "print(b)"
   ]
  },
  {
   "cell_type": "code",
   "execution_count": 7,
   "id": "f1884aad",
   "metadata": {},
   "outputs": [
    {
     "name": "stdout",
     "output_type": "stream",
     "text": [
      "[[ 6.  8.]\n",
      " [10. 12.]]\n",
      "[[ 5. 12.]\n",
      " [21. 32.]]\n",
      "10.0\n",
      "[4. 6.]\n",
      "[3. 7.]\n",
      "[[1. 3.]\n",
      " [2. 4.]]\n"
     ]
    }
   ],
   "source": [
    "x = np.array([[1,2],[3,4]],dtype=np.float64)\n",
    "y = np.array([[5,6],[7,8]],dtype=np.float64)\n",
    "\n",
    "print(x+y)\n",
    "\n",
    "print(np.multiply(x,y)) # mutiply elements in the same position\n",
    "\n",
    "print(np.sum(x))\n",
    "\n",
    "print(np.sum(x, axis=0))\n",
    "\n",
    "print(np.sum(x, axis=1))\n",
    "\n",
    "print(x.T)"
   ]
  },
  {
   "cell_type": "code",
   "execution_count": 8,
   "id": "deb3e565",
   "metadata": {},
   "outputs": [
    {
     "name": "stdout",
     "output_type": "stream",
     "text": [
      "[[ 2.  4.]\n",
      " [ 4.  6.]\n",
      " [ 6.  8.]\n",
      " [ 8. 10.]]\n"
     ]
    }
   ],
   "source": [
    "z = np.array([[1,2],[3,4],[5,6],[7,8]],dtype=np.float64)\n",
    "g = np.array([1,2],dtype=np.float64)\n",
    "\n",
    "print(z + g)"
   ]
  },
  {
   "cell_type": "code",
   "execution_count": 9,
   "id": "cb9829d6",
   "metadata": {},
   "outputs": [
    {
     "name": "stdout",
     "output_type": "stream",
     "text": [
      "[[[ 12  54  92]\n",
      "  [  0  93 126]\n",
      "  [  0 117 154]\n",
      "  ...\n",
      "  [  0   0   0]\n",
      "  [  0   0   0]\n",
      "  [  0   0   0]]\n",
      "\n",
      " [[ 17  59  83]\n",
      "  [  7  89 113]\n",
      "  [  0 102 137]\n",
      "  ...\n",
      "  [  0   0   0]\n",
      "  [  0   0   0]\n",
      "  [  0   0   0]]\n",
      "\n",
      " [[ 23  41  53]\n",
      "  [ 14  67  83]\n",
      "  [  4  79 108]\n",
      "  ...\n",
      "  [  0   0   0]\n",
      "  [  0   0   0]\n",
      "  [  0   0   0]]\n",
      "\n",
      " ...\n",
      "\n",
      " [[  0  26   3]\n",
      "  [  0  23   2]\n",
      "  [  0  21   3]\n",
      "  ...\n",
      "  [  8  20  34]\n",
      "  [  3   8  14]\n",
      "  [  1   3   2]]\n",
      "\n",
      " [[  0  45   8]\n",
      "  [  0  39   7]\n",
      "  [  0  33   9]\n",
      "  ...\n",
      "  [ 19  36  54]\n",
      "  [ 12  18  30]\n",
      "  [  7   6  11]]\n",
      "\n",
      " [[  2  66  14]\n",
      "  [  1  54  12]\n",
      "  [  0  37   6]\n",
      "  ...\n",
      "  [ 13  49  71]\n",
      "  [ 41  23  45]\n",
      "  [ 20   7  14]]]\n",
      "uint8 (513, 639, 3)\n"
     ]
    }
   ],
   "source": [
    "from matplotlib.pyplot import imread, imsave\n",
    "\n",
    "img = imread('test_image.jpg')\n",
    "print(img)\n",
    "print(img.dtype, img.shape)\n",
    "\n",
    "img_tinted = img * [0., 0., 1.]\n",
    "\n",
    "imsave('tinted.jpg', img_tinted/255)"
   ]
  },
  {
   "cell_type": "code",
   "execution_count": null,
   "id": "fb49abc5",
   "metadata": {},
   "outputs": [],
   "source": []
  }
 ],
 "metadata": {
  "kernelspec": {
   "display_name": "Python 3",
   "language": "python",
   "name": "python3"
  },
  "language_info": {
   "codemirror_mode": {
    "name": "ipython",
    "version": 3
   },
   "file_extension": ".py",
   "mimetype": "text/x-python",
   "name": "python",
   "nbconvert_exporter": "python",
   "pygments_lexer": "ipython3",
   "version": "3.8.8"
  }
 },
 "nbformat": 4,
 "nbformat_minor": 5
}
