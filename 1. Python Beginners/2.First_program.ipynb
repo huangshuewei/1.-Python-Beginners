{
 "cells": [
  {
   "cell_type": "code",
   "execution_count": 1,
   "id": "0f53dc34",
   "metadata": {},
   "outputs": [
    {
     "name": "stdout",
     "output_type": "stream",
     "text": [
      "Hello World~\n"
     ]
    }
   ],
   "source": [
    "print(\"Hello World~\")"
   ]
  },
  {
   "cell_type": "code",
   "execution_count": 2,
   "id": "696740fc",
   "metadata": {},
   "outputs": [
    {
     "name": "stdout",
     "output_type": "stream",
     "text": [
      "My second Line~\n"
     ]
    }
   ],
   "source": [
    "print(\"My second Line~\")"
   ]
  },
  {
   "cell_type": "code",
   "execution_count": 3,
   "id": "0996b728",
   "metadata": {},
   "outputs": [],
   "source": [
    "a = 5\n",
    "b = 3.\n",
    "c = 2\n",
    "\n",
    "d = a*b\n",
    "e = a*c"
   ]
  },
  {
   "cell_type": "code",
   "execution_count": 5,
   "id": "53f9e5d7",
   "metadata": {},
   "outputs": [
    {
     "name": "stdout",
     "output_type": "stream",
     "text": [
      "15.0\n",
      "10\n"
     ]
    }
   ],
   "source": [
    "print(d)\n",
    "print(e)"
   ]
  },
  {
   "cell_type": "code",
   "execution_count": 7,
   "id": "b591d03c",
   "metadata": {},
   "outputs": [
    {
     "name": "stdout",
     "output_type": "stream",
     "text": [
      "hellohellohellohellohello\n"
     ]
    }
   ],
   "source": [
    "f = \"hello\"\n",
    "g = a * f\n",
    "print(g)"
   ]
  },
  {
   "cell_type": "code",
   "execution_count": null,
   "id": "18d2671f",
   "metadata": {},
   "outputs": [],
   "source": []
  }
 ],
 "metadata": {
  "kernelspec": {
   "display_name": "Python 3",
   "language": "python",
   "name": "python3"
  },
  "language_info": {
   "codemirror_mode": {
    "name": "ipython",
    "version": 3
   },
   "file_extension": ".py",
   "mimetype": "text/x-python",
   "name": "python",
   "nbconvert_exporter": "python",
   "pygments_lexer": "ipython3",
   "version": "3.8.8"
  }
 },
 "nbformat": 4,
 "nbformat_minor": 5
}
