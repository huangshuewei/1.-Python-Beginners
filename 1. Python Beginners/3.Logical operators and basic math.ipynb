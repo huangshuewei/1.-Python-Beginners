{
 "cells": [
  {
   "cell_type": "code",
   "execution_count": 1,
   "id": "2f08ccb8",
   "metadata": {},
   "outputs": [
    {
     "name": "stdout",
     "output_type": "stream",
     "text": [
      "My name is Shu-wei Huang\n"
     ]
    }
   ],
   "source": [
    "a = 3\n",
    "b = 5.\n",
    "c = a/b\n",
    "\n",
    "if a == 5:\n",
    "    print(\"Welcome to Taiwan\")\n",
    "else:\n",
    "    print(\"My name is Shu-wei Huang\")"
   ]
  },
  {
   "cell_type": "code",
   "execution_count": 2,
   "id": "dcd6e51b",
   "metadata": {},
   "outputs": [
    {
     "name": "stdout",
     "output_type": "stream",
     "text": [
      "Welcome to Taiwan\n"
     ]
    }
   ],
   "source": [
    "if a <= 5:\n",
    "    print(\"Welcome to Taiwan\")\n",
    "else:\n",
    "    print(\"My name is Shu-wei Huang\")"
   ]
  },
  {
   "cell_type": "code",
   "execution_count": 3,
   "id": "1739199e",
   "metadata": {},
   "outputs": [
    {
     "name": "stdout",
     "output_type": "stream",
     "text": [
      "Welcome to Taiwan\n"
     ]
    }
   ],
   "source": [
    "if a != 5:\n",
    "    print(\"Welcome to Taiwan\")\n",
    "else:\n",
    "    print(\"My name is Shu-wei Huang\")"
   ]
  },
  {
   "cell_type": "code",
   "execution_count": 4,
   "id": "6cb3eeca",
   "metadata": {},
   "outputs": [
    {
     "name": "stdout",
     "output_type": "stream",
     "text": [
      "My name is Shu-wei Huang\n"
     ]
    }
   ],
   "source": [
    "if a >= 5:\n",
    "    print(\"Welcome to Taiwan\")\n",
    "else:\n",
    "    print(\"My name is Shu-wei Huang\")"
   ]
  },
  {
   "cell_type": "code",
   "execution_count": 6,
   "id": "6cec70f4",
   "metadata": {},
   "outputs": [
    {
     "name": "stdout",
     "output_type": "stream",
     "text": [
      "3.0\n"
     ]
    }
   ],
   "source": [
    "import math\n",
    "\n",
    "a = 9\n",
    "b = math.sqrt(a)\n",
    "print(b)"
   ]
  },
  {
   "cell_type": "code",
   "execution_count": 7,
   "id": "5f8a2d5e",
   "metadata": {},
   "outputs": [
    {
     "name": "stdout",
     "output_type": "stream",
     "text": [
      "Force = 45\n",
      "Energy = 45000000000000000000\n"
     ]
    }
   ],
   "source": [
    "\"\"\"\n",
    "Equations for this Python file\n",
    "F = ma\n",
    "E = mc**2\n",
    "\n",
    "enter mass in kilograms\n",
    "\"\"\"\n",
    "\n",
    "mass = 5 # in kilograms\n",
    "c = 3000000000 # meters per second\n",
    "a = 9 # meters per second squre\n",
    "\n",
    "Force = mass * a\n",
    "Energy = mass * (c**2)\n",
    "\n",
    "print(\"Force =\", Force)\n",
    "print(\"Energy =\",Energy)\n"
   ]
  },
  {
   "cell_type": "code",
   "execution_count": 10,
   "id": "0600c424",
   "metadata": {},
   "outputs": [
    {
     "name": "stdout",
     "output_type": "stream",
     "text": [
      "Plz enter the mass: 1.5\n",
      "Force = 13.5\n"
     ]
    }
   ],
   "source": [
    "\"\"\"\n",
    "Equations for this Python file\n",
    "F = ma\n",
    "E = mc**2\n",
    "\n",
    "enter mass in kilograms\n",
    "\"\"\"\n",
    "\n",
    "mass = float(input(\"Plz enter the mass: \")) # in kilograms\n",
    "c = 3000000000 # meters per second\n",
    "a = 9 # meters per second squre\n",
    "\n",
    "Force = mass * a\n",
    "# Energy = mass * (c**2)\n",
    "\n",
    "print(\"Force =\", Force)\n",
    "#print(\"Energy =\",Energy)\n"
   ]
  },
  {
   "cell_type": "code",
   "execution_count": null,
   "id": "dd95168d",
   "metadata": {},
   "outputs": [],
   "source": []
  }
 ],
 "metadata": {
  "kernelspec": {
   "display_name": "Python 3",
   "language": "python",
   "name": "python3"
  },
  "language_info": {
   "codemirror_mode": {
    "name": "ipython",
    "version": 3
   },
   "file_extension": ".py",
   "mimetype": "text/x-python",
   "name": "python",
   "nbconvert_exporter": "python",
   "pygments_lexer": "ipython3",
   "version": "3.8.8"
  }
 },
 "nbformat": 4,
 "nbformat_minor": 5
}
