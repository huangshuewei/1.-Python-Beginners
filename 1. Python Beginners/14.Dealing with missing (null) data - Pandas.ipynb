{
 "cells": [
  {
   "cell_type": "code",
   "execution_count": 3,
   "id": "a8d9d814",
   "metadata": {},
   "outputs": [
    {
     "name": "stdout",
     "output_type": "stream",
     "text": [
      "  Unnamed: 0   Image  Manual  Auto_th_2  Auto_th_3  Auto_th_4\n",
      "0       Set1  Image1    92.0         70         87         82\n",
      "1       Set1  Image2    87.0         60         85         83\n",
      "2       Set1  Image3   104.0         74         99         94\n",
      "3       Set1  Image4    99.0         73        101        109\n",
      "4       Set1  Image5    89.0         59         90         67\n"
     ]
    },
    {
     "ename": "AttributeError",
     "evalue": "'DataFrame' object has no attribute 'isnaull'",
     "output_type": "error",
     "traceback": [
      "\u001b[1;31m---------------------------------------------------------------------------\u001b[0m",
      "\u001b[1;31mAttributeError\u001b[0m                            Traceback (most recent call last)",
      "\u001b[1;32m<ipython-input-3-cde60993ba38>\u001b[0m in \u001b[0;36m<module>\u001b[1;34m\u001b[0m\n\u001b[0;32m     10\u001b[0m \u001b[0mprint\u001b[0m\u001b[1;33m(\u001b[0m\u001b[0mdf2\u001b[0m\u001b[1;33m.\u001b[0m\u001b[0mhead\u001b[0m\u001b[1;33m(\u001b[0m\u001b[1;36m5\u001b[0m\u001b[1;33m)\u001b[0m\u001b[1;33m)\u001b[0m\u001b[1;33m\u001b[0m\u001b[1;33m\u001b[0m\u001b[0m\n\u001b[0;32m     11\u001b[0m \u001b[1;33m\u001b[0m\u001b[0m\n\u001b[1;32m---> 12\u001b[1;33m \u001b[0mprint\u001b[0m\u001b[1;33m(\u001b[0m\u001b[0mdf2\u001b[0m\u001b[1;33m.\u001b[0m\u001b[0misnaull\u001b[0m\u001b[1;33m(\u001b[0m\u001b[1;33m)\u001b[0m\u001b[1;33m.\u001b[0m\u001b[0msum\u001b[0m\u001b[1;33m(\u001b[0m\u001b[1;33m)\u001b[0m\u001b[1;33m)\u001b[0m\u001b[1;33m\u001b[0m\u001b[1;33m\u001b[0m\u001b[0m\n\u001b[0m",
      "\u001b[1;32m~\\anaconda3\\myanaconda\\lib\\site-packages\\pandas\\core\\generic.py\u001b[0m in \u001b[0;36m__getattr__\u001b[1;34m(self, name)\u001b[0m\n\u001b[0;32m   5463\u001b[0m             \u001b[1;32mif\u001b[0m \u001b[0mself\u001b[0m\u001b[1;33m.\u001b[0m\u001b[0m_info_axis\u001b[0m\u001b[1;33m.\u001b[0m\u001b[0m_can_hold_identifiers_and_holds_name\u001b[0m\u001b[1;33m(\u001b[0m\u001b[0mname\u001b[0m\u001b[1;33m)\u001b[0m\u001b[1;33m:\u001b[0m\u001b[1;33m\u001b[0m\u001b[1;33m\u001b[0m\u001b[0m\n\u001b[0;32m   5464\u001b[0m                 \u001b[1;32mreturn\u001b[0m \u001b[0mself\u001b[0m\u001b[1;33m[\u001b[0m\u001b[0mname\u001b[0m\u001b[1;33m]\u001b[0m\u001b[1;33m\u001b[0m\u001b[1;33m\u001b[0m\u001b[0m\n\u001b[1;32m-> 5465\u001b[1;33m             \u001b[1;32mreturn\u001b[0m \u001b[0mobject\u001b[0m\u001b[1;33m.\u001b[0m\u001b[0m__getattribute__\u001b[0m\u001b[1;33m(\u001b[0m\u001b[0mself\u001b[0m\u001b[1;33m,\u001b[0m \u001b[0mname\u001b[0m\u001b[1;33m)\u001b[0m\u001b[1;33m\u001b[0m\u001b[1;33m\u001b[0m\u001b[0m\n\u001b[0m\u001b[0;32m   5466\u001b[0m \u001b[1;33m\u001b[0m\u001b[0m\n\u001b[0;32m   5467\u001b[0m     \u001b[1;32mdef\u001b[0m \u001b[0m__setattr__\u001b[0m\u001b[1;33m(\u001b[0m\u001b[0mself\u001b[0m\u001b[1;33m,\u001b[0m \u001b[0mname\u001b[0m\u001b[1;33m:\u001b[0m \u001b[0mstr\u001b[0m\u001b[1;33m,\u001b[0m \u001b[0mvalue\u001b[0m\u001b[1;33m)\u001b[0m \u001b[1;33m->\u001b[0m \u001b[1;32mNone\u001b[0m\u001b[1;33m:\u001b[0m\u001b[1;33m\u001b[0m\u001b[1;33m\u001b[0m\u001b[0m\n",
      "\u001b[1;31mAttributeError\u001b[0m: 'DataFrame' object has no attribute 'isnaull'"
     ]
    }
   ],
   "source": [
    "import pandas as pd\n",
    "\n",
    "df = pd.read_csv('grains/manual_vs_auto.csv')\n",
    "df = df.drop('Manual2', axis=1)\n",
    "\n",
    "# Drop all null data\n",
    "\n",
    "df2 = df.dropna()\n",
    "\n",
    "print(df2.head(5))\n",
    "\n",
    "print(df2.isnaull().sum())"
   ]
  },
  {
   "cell_type": "code",
   "execution_count": 4,
   "id": "ea2ae4a5",
   "metadata": {},
   "outputs": [
    {
     "name": "stdout",
     "output_type": "stream",
     "text": [
      "Unnamed: 0     0\n",
      "Image          0\n",
      "Manual         6\n",
      "Manual2       97\n",
      "Auto_th_2      0\n",
      "Auto_th_3      0\n",
      "Auto_th_4      0\n",
      "dtype: int64\n"
     ]
    }
   ],
   "source": [
    "\"\"\"\n",
    "How many data is missing?\n",
    "\"\"\"\n",
    "df = pd.read_csv('grains/manual_vs_auto.csv')\n",
    "\n",
    "# How many data is null?\n",
    "# isnull to chech whether the data is null\n",
    "# sum to show the number of null data in each column\n",
    "\n",
    "print(df.isnull().sum())\n"
   ]
  },
  {
   "cell_type": "code",
   "execution_count": 5,
   "id": "e6ddab7f",
   "metadata": {},
   "outputs": [
    {
     "name": "stdout",
     "output_type": "stream",
     "text": [
      "   Unnamed: 0    Image  Manual  Auto_th_2  Auto_th_3  Auto_th_4\n",
      "0        Set1   Image1    92.0         70         87         82\n",
      "1        Set1   Image2    87.0         60         85         83\n",
      "2        Set1   Image3   104.0         74         99         94\n",
      "3        Set1   Image4    99.0         73        101        109\n",
      "4        Set1   Image5    89.0         59         90         67\n",
      "5        Set1   Image6   115.0         82        124        105\n",
      "6        Set1   Image7   102.0         68        103         93\n",
      "7        Set1   Image8   117.0         77        122         88\n",
      "8        Set1   Image9   104.0         88         99        112\n",
      "9        Set1  Image10   103.0         69         98         94\n",
      "10       Set1  Image11    91.0         61         87         77\n",
      "11       Set1  Image12   119.0         79        105        111\n",
      "12       Set1  Image13   100.0         65         90         84\n",
      "13       Set1  Image14   117.0         94        115        105\n",
      "14       Set1  Image15    91.0         66         99         70\n",
      "15       Set1  Image16    84.0         55         76         64\n",
      "16       Set1  Image17   105.0         85         91        101\n",
      "17       Set1  Image18   112.0         73        104         96\n",
      "18       Set1  Image19    87.0         60         83         93\n",
      "19       Set1  Image20   100.0         76         87         81\n",
      "20       Set1  Image21    89.0         65         94         86\n",
      "21       Set1  Image22    88.0         66         96         83\n",
      "22       Set1  Image23   106.0         71        112        105\n",
      "23       Set1  Image24   107.0         92         91        111\n",
      "24       Set1  Image25   108.0         93        113        115\n"
     ]
    }
   ],
   "source": [
    "df = df.drop('Manual2', axis=1)\n",
    "\n",
    "# Fill null data\n",
    "# fill null data using 100\n",
    "\n",
    "df['Manual'].fillna(100, inplace=True)\n",
    "print(df.head(5))\n"
   ]
  }
 ],
 "metadata": {
  "kernelspec": {
   "display_name": "Python 3",
   "language": "python",
   "name": "python3"
  },
  "language_info": {
   "codemirror_mode": {
    "name": "ipython",
    "version": 3
   },
   "file_extension": ".py",
   "mimetype": "text/x-python",
   "name": "python",
   "nbconvert_exporter": "python",
   "pygments_lexer": "ipython3",
   "version": "3.8.8"
  }
 },
 "nbformat": 4,
 "nbformat_minor": 5
}
