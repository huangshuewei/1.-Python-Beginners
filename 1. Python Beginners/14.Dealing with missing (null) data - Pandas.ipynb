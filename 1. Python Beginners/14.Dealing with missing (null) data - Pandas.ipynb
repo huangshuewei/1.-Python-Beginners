{
 "cells": [
  {
   "cell_type": "code",
   "execution_count": 1,
   "id": "a8d9d814",
   "metadata": {},
   "outputs": [
    {
     "name": "stdout",
     "output_type": "stream",
     "text": [
      "  Unnamed: 0   Image  Manual  Auto_th_2  Auto_th_3  Auto_th_4\n",
      "0       Set1  Image1    92.0         70         87         82\n",
      "1       Set1  Image2    87.0         60         85         83\n",
      "2       Set1  Image3   104.0         74         99         94\n",
      "3       Set1  Image4    99.0         73        101        109\n",
      "4       Set1  Image5    89.0         59         90         67\n",
      "Unnamed: 0    0\n",
      "Image         0\n",
      "Manual        0\n",
      "Auto_th_2     0\n",
      "Auto_th_3     0\n",
      "Auto_th_4     0\n",
      "dtype: int64\n"
     ]
    }
   ],
   "source": [
    "import pandas as pd\n",
    "\n",
    "df = pd.read_csv('grains/manual_vs_auto.csv')\n",
    "df = df.drop('Manual2', axis=1)\n",
    "\n",
    "# Drop all null data\n",
    "\n",
    "df2 = df.dropna()\n",
    "\n",
    "print(df2.head(5))\n",
    "\n",
    "print(df2.isnull().sum())"
   ]
  },
  {
   "cell_type": "code",
   "execution_count": 2,
   "id": "ea2ae4a5",
   "metadata": {},
   "outputs": [
    {
     "name": "stdout",
     "output_type": "stream",
     "text": [
      "Unnamed: 0     0\n",
      "Image          0\n",
      "Manual         6\n",
      "Manual2       97\n",
      "Auto_th_2      0\n",
      "Auto_th_3      0\n",
      "Auto_th_4      0\n",
      "dtype: int64\n"
     ]
    }
   ],
   "source": [
    "\"\"\"\n",
    "How many data is missing?\n",
    "\"\"\"\n",
    "df = pd.read_csv('grains/manual_vs_auto.csv')\n",
    "\n",
    "# How many data is null?\n",
    "# isnull to chech whether the data is null\n",
    "# sum to show the number of null data in each column\n",
    "\n",
    "print(df.isnull().sum())\n"
   ]
  },
  {
   "cell_type": "code",
   "execution_count": 3,
   "id": "e6ddab7f",
   "metadata": {},
   "outputs": [
    {
     "name": "stdout",
     "output_type": "stream",
     "text": [
      "  Unnamed: 0   Image  Manual  Auto_th_2  Auto_th_3  Auto_th_4\n",
      "0       Set1  Image1    92.0         70         87         82\n",
      "1       Set1  Image2    87.0         60         85         83\n",
      "2       Set1  Image3   104.0         74         99         94\n",
      "3       Set1  Image4    99.0         73        101        109\n",
      "4       Set1  Image5    89.0         59         90         67\n"
     ]
    }
   ],
   "source": [
    "df = df.drop('Manual2', axis=1)\n",
    "\n",
    "# Fill null data\n",
    "# fill null data using 100\n",
    "\n",
    "df['Manual'].fillna(100, inplace=True)\n",
    "print(df.head(5))\n"
   ]
  }
 ],
 "metadata": {
  "kernelspec": {
   "display_name": "Python 3",
   "language": "python",
   "name": "python3"
  },
  "language_info": {
   "codemirror_mode": {
    "name": "ipython",
    "version": 3
   },
   "file_extension": ".py",
   "mimetype": "text/x-python",
   "name": "python",
   "nbconvert_exporter": "python",
   "pygments_lexer": "ipython3",
   "version": "3.8.8"
  }
 },
 "nbformat": 4,
 "nbformat_minor": 5
}
