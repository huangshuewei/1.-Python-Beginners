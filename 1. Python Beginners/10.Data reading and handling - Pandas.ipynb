{
 "cells": [
  {
   "cell_type": "code",
   "execution_count": 1,
   "id": "c7ec6bb2",
   "metadata": {},
   "outputs": [
    {
     "name": "stdout",
     "output_type": "stream",
     "text": [
      "                    FileName  Grain #  Unnamed: 2    Area  \\\n",
      "0  images/grains\\grains1.jpg        1         NaN  776.25   \n",
      "1  images/grains\\grains1.jpg        2         NaN  101.50   \n",
      "2  images/grains\\grains1.jpg        3         NaN   65.50   \n",
      "3  images/grains\\grains1.jpg        4         NaN   21.75   \n",
      "4  images/grains\\grains1.jpg        5         NaN   19.25   \n",
      "\n",
      "   equivalent_diameter  orientation  MajorAxisLength  MinorAxisLength  \\\n",
      "0            31.438069    -1.568542       378.454076       213.519393   \n",
      "1            11.368105    73.370748        15.134435         9.386622   \n",
      "2             9.132206    34.973618         9.870074         8.852305   \n",
      "3             5.262410    -9.781225         8.476846         3.668719   \n",
      "4             4.950744    -5.624209         7.460761         3.966939   \n",
      "\n",
      "    Perimeter  MinIntensity  MeanIntensity  MaxIntensity  \n",
      "0  889.784361             1     122.549114           241  \n",
      "1   44.313708           104     219.879310           241  \n",
      "2   31.435029            78     218.992366           240  \n",
      "3   19.260408           116     216.551724           248  \n",
      "4   19.399495           103     206.571429           244  \n"
     ]
    },
    {
     "data": {
      "image/png": "[encoded data removed]",
      "text/plain": [
       "<Figure size 432x288 with 1 Axes>"
      ]
     },
     "metadata": {
      "needs_background": "light"
     },
     "output_type": "display_data"
    }
   ],
   "source": [
    "import pandas as pd\n",
    "\n",
    "\n",
    "# Read CSV file by pandas\n",
    "df = pd.read_csv('grains/grain_measurements.csv')\n",
    "\n",
    "# Plot the histgram of 'Area'\n",
    "df['Area'].plot(kind='hist', title='Area',bins=50)\n",
    "\n",
    "# Show Dataframe of loaded data\n",
    "print(df.head())"
   ]
  },
  {
   "cell_type": "code",
   "execution_count": 2,
   "id": "573e543c",
   "metadata": {},
   "outputs": [
    {
     "name": "stdout",
     "output_type": "stream",
     "text": [
      "   Area  Intensity  Orientation\n",
      "1    10        200           60\n",
      "2    12        155           45\n",
      "3     9         50          -45\n",
      "4    16        240           90\n"
     ]
    }
   ],
   "source": [
    "\n",
    "# Create 2D data\n",
    "data = [[10,200,60],\n",
    "        [12,155,45],\n",
    "        [9,50,-45],\n",
    "        [16,240,90]]\n",
    "\n",
    "# Put data in DataFrame. Set index number and columns' name.\n",
    "df = pd.DataFrame(data, index=[1,2,3,4], columns=['Area','Intensity','Orientation'])\n",
    "print(df)"
   ]
  },
  {
   "cell_type": "code",
   "execution_count": 3,
   "id": "d435ba16",
   "metadata": {},
   "outputs": [
    {
     "name": "stdout",
     "output_type": "stream",
     "text": [
      "<class 'pandas.core.frame.DataFrame'>\n",
      "RangeIndex: 100 entries, 0 to 99\n",
      "Data columns (total 7 columns):\n",
      " #   Column      Non-Null Count  Dtype  \n",
      "---  ------      --------------  -----  \n",
      " 0   Unnamed: 0  100 non-null    object \n",
      " 1   Image       100 non-null    object \n",
      " 2   Manual      94 non-null     float64\n",
      " 3   Manual2     3 non-null      float64\n",
      " 4   Auto_th_2   100 non-null    int64  \n",
      " 5   Auto_th_3   100 non-null    int64  \n",
      " 6   Auto_th_4   100 non-null    int64  \n",
      "dtypes: float64(2), int64(3), object(2)\n",
      "memory usage: 5.6+ KB\n",
      "None\n",
      "(100, 7)\n"
     ]
    }
   ],
   "source": [
    "# Read CSV file\n",
    "df = pd.read_csv('grains/manual_vs_auto.csv')\n",
    "\n",
    "print(df.info())\n",
    "print(df.shape)\n",
    "\n",
    "# 100 data\n",
    "# the first column is 'Unnamed: 0'\n",
    "# Manual and Manual2 have some null data\n",
    "'''\n",
    "RangeIndex: 100 entries, 0 to 99\n",
    "Data columns (total 7 columns):\n",
    " #   Column      Non-Null Count  Dtype  \n",
    "---  ------      --------------  -----  \n",
    " 0   Unnamed: 0  100 non-null    object \n",
    " 1   Image       100 non-null    object \n",
    " 2   Manual      94 non-null     float64\n",
    " 3   Manual2     3 non-null      float64\n",
    " 4   Auto_th_2   100 non-null    int64  \n",
    " 5   Auto_th_3   100 non-null    int64  \n",
    " 6   Auto_th_4   100 non-null    int64  \n",
    "dtypes: float64(2), int64(3), object(2)\n",
    "memory usage: 5.6+ KB\n",
    "'''"
   ]
  },
  {
   "cell_type": "code",
   "execution_count": 4,
   "id": "4ce16535",
   "metadata": {},
   "outputs": [
    {
     "name": "stdout",
     "output_type": "stream",
     "text": [
      "  Unnamed: 0   Image  Manual  Manual2  Auto_th_2  Auto_th_3  Auto_th_4\n",
      "0       Set1  Image1    92.0     93.0         70         87         82\n",
      "1       Set1  Image2    87.0     83.0         60         85         83\n",
      "2       Set1  Image3   104.0     98.0         74         99         94\n",
      "3       Set1  Image4    99.0      NaN         73        101        109\n",
      "4       Set1  Image5    89.0      NaN         59         90         67\n",
      "5       Set1  Image6   115.0      NaN         82        124        105\n",
      "6       Set1  Image7   102.0      NaN         68        103         93\n"
     ]
    }
   ],
   "source": [
    "print(df.head(7))"
   ]
  },
  {
   "cell_type": "code",
   "execution_count": 5,
   "id": "41351512",
   "metadata": {},
   "outputs": [
    {
     "name": "stdout",
     "output_type": "stream",
     "text": [
      "   Unnamed: 0     Image  Manual  Manual2  Auto_th_2  Auto_th_3  Auto_th_4\n",
      "93       Set4   Image94    81.0      NaN         65         90         70\n",
      "94       Set4   Image95     NaN      NaN        104        122         88\n",
      "95       Set4   Image96   106.0      NaN         75        112         98\n",
      "96       Set4   Image97    80.0      NaN         66         80         88\n",
      "97       Set4   Image98    92.0      NaN         73         93         95\n",
      "98       Set4   Image99   116.0      NaN        101        115         93\n",
      "99       Set4  Image100    99.0      NaN         77        106        102\n"
     ]
    }
   ],
   "source": [
    "print(df.tail(7))"
   ]
  },
  {
   "cell_type": "code",
   "execution_count": 6,
   "id": "9831ef05",
   "metadata": {},
   "outputs": [
    {
     "name": "stdout",
     "output_type": "stream",
     "text": [
      "       Unnamed: 0  Manual  Manual2  Auto_th_2  Auto_th_3  Auto_th_4\n",
      "Image                                                              \n",
      "Image1       Set1    92.0     93.0         70         87         82\n",
      "Image2       Set1    87.0     83.0         60         85         83\n",
      "Image3       Set1   104.0     98.0         74         99         94\n",
      "Image4       Set1    99.0      NaN         73        101        109\n",
      "Image5       Set1    89.0      NaN         59         90         67\n",
      "Image6       Set1   115.0      NaN         82        124        105\n",
      "Image7       Set1   102.0      NaN         68        103         93\n"
     ]
    }
   ],
   "source": [
    "# Rename or set index name\n",
    "df1 = df.set_index('Image')\n",
    "\n",
    "print(df1.head(7))"
   ]
  },
  {
   "cell_type": "code",
   "execution_count": 7,
   "id": "fe3a1f17",
   "metadata": {},
   "outputs": [
    {
     "name": "stdout",
     "output_type": "stream",
     "text": [
      "Index(['Unnamed: 0', 'Manual', 'Manual2', 'Auto_th_2', 'Auto_th_3',\n",
      "       'Auto_th_4'],\n",
      "      dtype='object')\n"
     ]
    }
   ],
   "source": [
    "print(df1.columns)"
   ]
  },
  {
   "cell_type": "code",
   "execution_count": 8,
   "id": "557dd477",
   "metadata": {},
   "outputs": [
    {
     "name": "stdout",
     "output_type": "stream",
     "text": [
      "['Set1' 'Set2' 'Set3' 'Set4']\n"
     ]
    }
   ],
   "source": [
    "# the number of sets in this data\n",
    "# here it has four sets in the data\n",
    "\n",
    "print(df1['Unnamed: 0'].unique())"
   ]
  },
  {
   "cell_type": "code",
   "execution_count": 9,
   "id": "b0fefb42",
   "metadata": {},
   "outputs": [
    {
     "name": "stdout",
     "output_type": "stream",
     "text": [
      "Index(['Image_set', 'Image', 'Manual', 'Manual2', 'Auto_th_2', 'Auto_th_3',\n",
      "       'Auto_th_4'],\n",
      "      dtype='object')\n",
      "Index(['Unnamed: 0', 'Image', 'Manual', 'Manual2', 'Auto_th_2', 'Auto_th_3',\n",
      "       'Auto_th_4'],\n",
      "      dtype='object')\n",
      "Unnamed: 0     object\n",
      "Image          object\n",
      "Manual        float64\n",
      "Manual2       float64\n",
      "Auto_th_2       int64\n",
      "Auto_th_3       int64\n",
      "Auto_th_4       int64\n",
      "dtype: object\n"
     ]
    }
   ],
   "source": [
    "# rename the selected column name, 'Unnamed: 0':'Image_set'\n",
    "\n",
    "df1 = df.rename(columns={'Unnamed: 0':'Image_set'})\n",
    "\n",
    "print(df1.columns)\n",
    "print(df.columns)\n",
    "\n",
    "print(df.dtypes)"
   ]
  },
  {
   "cell_type": "code",
   "execution_count": 10,
   "id": "ba32f570",
   "metadata": {},
   "outputs": [
    {
     "name": "stdout",
     "output_type": "stream",
     "text": [
      "           Manual    Manual2   Auto_th_2   Auto_th_3   Auto_th_4\n",
      "count   94.000000   3.000000  100.000000  100.000000  100.000000\n",
      "mean   100.021277  91.333333   76.370000   97.580000   93.210000\n",
      "std     11.285140   7.637626   11.971055   12.327337   14.128769\n",
      "min     80.000000  83.000000   55.000000   71.000000   63.000000\n",
      "25%     90.250000  88.000000   67.750000   89.500000   83.750000\n",
      "50%    101.000000  93.000000   74.500000   98.500000   93.000000\n",
      "75%    108.000000  95.500000   85.000000  106.000000  103.250000\n",
      "max    120.000000  98.000000  109.000000  124.000000  129.000000\n"
     ]
    }
   ],
   "source": [
    "print(df.describe())"
   ]
  },
  {
   "cell_type": "code",
   "execution_count": null,
   "id": "7d09c304",
   "metadata": {},
   "outputs": [],
   "source": []
  }
 ],
 "metadata": {
  "kernelspec": {
   "display_name": "Python 3",
   "language": "python",
   "name": "python3"
  },
  "language_info": {
   "codemirror_mode": {
    "name": "ipython",
    "version": 3
   },
   "file_extension": ".py",
   "mimetype": "text/x-python",
   "name": "python",
   "nbconvert_exporter": "python",
   "pygments_lexer": "ipython3",
   "version": "3.8.8"
  }
 },
 "nbformat": 4,
 "nbformat_minor": 5
}
