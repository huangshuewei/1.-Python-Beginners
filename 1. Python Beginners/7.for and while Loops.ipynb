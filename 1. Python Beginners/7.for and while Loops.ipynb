{
 "cells": [
  {
   "cell_type": "code",
   "execution_count": 2,
   "id": "bdc032e9",
   "metadata": {},
   "outputs": [
    {
     "name": "stdout",
     "output_type": "stream",
     "text": [
      "2\n",
      "4\n",
      "6\n",
      "8\n",
      "10\n"
     ]
    }
   ],
   "source": [
    "a = [1,2,3,4,5]\n",
    "\n",
    "a*2\n",
    "\n",
    "for i in a:\n",
    "    print(i*2)"
   ]
  },
  {
   "cell_type": "code",
   "execution_count": 4,
   "id": "f5327e7d",
   "metadata": {},
   "outputs": [
    {
     "name": "stdout",
     "output_type": "stream",
     "text": [
      "The count is:  0\n",
      "The count is:  1\n",
      "The count is:  2\n",
      "The count is:  3\n",
      "The count is:  4\n",
      "The count is:  5\n",
      "The count is:  6\n",
      "The count is:  7\n",
      "The count is:  8\n",
      "The count is:  9\n"
     ]
    }
   ],
   "source": [
    "count = 0\n",
    "\n",
    "while (count<10):\n",
    "    print(\"The count is: \", count)\n",
    "    count = count+1"
   ]
  },
  {
   "cell_type": "code",
   "execution_count": 6,
   "id": "844d548a",
   "metadata": {},
   "outputs": [
    {
     "name": "stdout",
     "output_type": "stream",
     "text": [
      "-40 -40.0\n",
      "-35 -31.0\n",
      "-30 -22.0\n",
      "-25 -13.0\n",
      "-20 -4.0\n",
      "-15 5.0\n",
      "-10 14.0\n",
      "-5 23.0\n",
      "0 32.0\n",
      "5 41.0\n",
      "10 50.0\n",
      "15 59.0\n",
      "20 68.0\n",
      "25 77.0\n",
      "30 86.0\n",
      "35 95.0\n",
      "40 104.0\n"
     ]
    }
   ],
   "source": [
    "\"\"\"\n",
    "F = 9/5C+32\n",
    "\"\"\"\n",
    "C = -40\n",
    "\n",
    "while (C<=40):\n",
    "    F = (9./5)*C+32.\n",
    "    print(C,F)\n",
    "    C += 5"
   ]
  },
  {
   "cell_type": "code",
   "execution_count": 7,
   "id": "ac5eb36c",
   "metadata": {},
   "outputs": [
    {
     "name": "stdout",
     "output_type": "stream",
     "text": [
      "The current letter is:  I\n",
      "The current letter is:   \n",
      "The current letter is:  l\n",
      "The current letter is:  o\n",
      "The current letter is:  v\n",
      "The current letter is:  e\n",
      "The current letter is:   \n",
      "The current letter is:  p\n",
      "The current letter is:  y\n",
      "The current letter is:  t\n",
      "The current letter is:  h\n",
      "The current letter is:  o\n",
      "The current letter is:  n\n"
     ]
    }
   ],
   "source": [
    "for letter in 'I love python':\n",
    "    print('The current letter is: ', letter)"
   ]
  },
  {
   "cell_type": "code",
   "execution_count": 8,
   "id": "8d4753c7",
   "metadata": {},
   "outputs": [
    {
     "name": "stdout",
     "output_type": "stream",
     "text": [
      "The alphabet letter is: a\n",
      "The alphabet letter is: b\n",
      "The alphabet letter is: c\n"
     ]
    }
   ],
   "source": [
    "a = ['a','b','c']\n",
    "for alphabet in a:\n",
    "    print(\"The alphabet letter is:\", alphabet)"
   ]
  },
  {
   "cell_type": "code",
   "execution_count": 9,
   "id": "ab70ece6",
   "metadata": {},
   "outputs": [
    {
     "name": "stdout",
     "output_type": "stream",
     "text": [
      "The current letter is:  I\n",
      "The current letter is:   \n",
      "The current letter is:  l\n",
      "The current letter is:  o\n",
      "The current letter is:  v\n",
      "The current letter is:  e\n",
      "The current letter is:   \n"
     ]
    }
   ],
   "source": [
    "for letter in 'I love python':\n",
    "    if letter == 'p':\n",
    "        break\n",
    "    print('The current letter is: ', letter)"
   ]
  },
  {
   "cell_type": "code",
   "execution_count": 11,
   "id": "4ae56dad",
   "metadata": {},
   "outputs": [
    {
     "name": "stdout",
     "output_type": "stream",
     "text": [
      "Current value is:  10\n",
      "Current value is:  9\n",
      "Current value is:  8\n",
      "Current value is:  7\n",
      "Current value is:  6\n",
      "Current value is:  5\n",
      "Current value is:  4\n",
      "Current value is:  3\n",
      "Current value is:  2\n",
      "Current value is:  1\n"
     ]
    }
   ],
   "source": [
    "a = 10\n",
    "while a>0:\n",
    "    print(\"Current value is: \", a)\n",
    "    a = a-1\n"
   ]
  },
  {
   "cell_type": "code",
   "execution_count": 12,
   "id": "b1e5cf53",
   "metadata": {},
   "outputs": [
    {
     "name": "stdout",
     "output_type": "stream",
     "text": [
      "Current value is:  10\n",
      "Current value is:  9\n",
      "Current value is:  8\n",
      "Current value is:  7\n",
      "Current value is:  6\n"
     ]
    }
   ],
   "source": [
    "a = 10\n",
    "while a>0:\n",
    "    print(\"Current value is: \", a)\n",
    "    a = a-1\n",
    "    if a == 5:\n",
    "        break"
   ]
  },
  {
   "cell_type": "code",
   "execution_count": 13,
   "id": "25a69fa1",
   "metadata": {},
   "outputs": [
    {
     "name": "stdout",
     "output_type": "stream",
     "text": [
      "10 is an even number\n",
      "11 is an odd number\n",
      "12 is an even number\n",
      "13 is an odd number\n",
      "14 is an even number\n",
      "15 is an odd number\n",
      "16 is an even number\n",
      "17 is an odd number\n",
      "18 is an even number\n",
      "19 is an odd number\n"
     ]
    }
   ],
   "source": [
    "for num in range(10,20):\n",
    "    if num%2 == 0:\n",
    "        print(\"%d is an even number\" %(num))\n",
    "    else:\n",
    "        print(\"%d is an odd number\" %(num))\n"
   ]
  },
  {
   "cell_type": "code",
   "execution_count": null,
   "id": "accb356a",
   "metadata": {},
   "outputs": [],
   "source": []
  }
 ],
 "metadata": {
  "kernelspec": {
   "display_name": "Python 3",
   "language": "python",
   "name": "python3"
  },
  "language_info": {
   "codemirror_mode": {
    "name": "ipython",
    "version": 3
   },
   "file_extension": ".py",
   "mimetype": "text/x-python",
   "name": "python",
   "nbconvert_exporter": "python",
   "pygments_lexer": "ipython3",
   "version": "3.8.8"
  }
 },
 "nbformat": 4,
 "nbformat_minor": 5
}
