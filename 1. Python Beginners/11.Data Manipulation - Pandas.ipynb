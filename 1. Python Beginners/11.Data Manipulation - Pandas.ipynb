{
 "cells": [
  {
   "cell_type": "code",
   "execution_count": 4,
   "id": "01190801",
   "metadata": {},
   "outputs": [
    {
     "name": "stdout",
     "output_type": "stream",
     "text": [
      "  Unnamed: 0   Image  Manual  Auto_th_2  Auto_th_3  Auto_th_4\n",
      "0       Set1  Image1    92.0         70         87         82\n",
      "1       Set1  Image2    87.0         60         85         83\n",
      "2       Set1  Image3   104.0         74         99         94\n",
      "3       Set1  Image4    99.0         73        101        109\n",
      "4       Set1  Image5    89.0         59         90         67\n",
      "  Unnamed: 0   Image  Manual  Auto_th_3  Auto_th_4\n",
      "0       Set1  Image1    92.0         87         82\n",
      "1       Set1  Image2    87.0         85         83\n",
      "2       Set1  Image3   104.0         99         94\n",
      "3       Set1  Image4    99.0        101        109\n",
      "4       Set1  Image5    89.0         90         67\n"
     ]
    }
   ],
   "source": [
    "import pandas as pd\n",
    "\n",
    "df = pd.read_csv('grains/manual_vs_auto.csv')\n",
    "\n",
    "df1 = df.drop('Manual2', axis=1)\n",
    "print(df1.head())\n",
    "df2 = df.drop(['Manual2', 'Auto_th_2'], axis=1)\n",
    "print(df2.head())\n"
   ]
  },
  {
   "cell_type": "code",
   "execution_count": 5,
   "id": "f82b1f07",
   "metadata": {},
   "outputs": [
    {
     "name": "stdout",
     "output_type": "stream",
     "text": [
      "  Unnamed: 0   Image  Manual  Manual2  Auto_th_2  Auto_th_3  Auto_th_4        Date\n",
      "0       Set1  Image1    92.0     93.0         70         87         82  2022-10-01\n",
      "1       Set1  Image2    87.0     83.0         60         85         83  2022-10-01\n",
      "2       Set1  Image3   104.0     98.0         74         99         94  2022-10-01\n",
      "3       Set1  Image4    99.0      NaN         73        101        109  2022-10-01\n",
      "4       Set1  Image5    89.0      NaN         59         90         67  2022-10-01\n"
     ]
    }
   ],
   "source": [
    "df['Date'] = '2022-10-01'\n",
    "\n",
    "print(df.head())"
   ]
  },
  {
   "cell_type": "code",
   "execution_count": 6,
   "id": "1640067b",
   "metadata": {},
   "outputs": [
    {
     "name": "stdout",
     "output_type": "stream",
     "text": [
      "Unnamed: 0     object\n",
      "Image          object\n",
      "Manual        float64\n",
      "Manual2       float64\n",
      "Auto_th_2       int64\n",
      "Auto_th_3       int64\n",
      "Auto_th_4       int64\n",
      "Date           object\n",
      "dtype: object\n"
     ]
    }
   ],
   "source": [
    "print(df.dtypes) # date is an object"
   ]
  },
  {
   "cell_type": "code",
   "execution_count": 9,
   "id": "fd745d94",
   "metadata": {},
   "outputs": [
    {
     "name": "stdout",
     "output_type": "stream",
     "text": [
      "Unnamed: 0            object\n",
      "Image                 object\n",
      "Manual               float64\n",
      "Manual2              float64\n",
      "Auto_th_2              int64\n",
      "Auto_th_3              int64\n",
      "Auto_th_4              int64\n",
      "Date          datetime64[ns]\n",
      "dtype: object\n"
     ]
    }
   ],
   "source": [
    "df['Date'] = pd.to_datetime('2022-10-01')\n",
    "\n",
    "print(df.dtypes) # date is a datetime"
   ]
  },
  {
   "cell_type": "code",
   "execution_count": 10,
   "id": "3b3d0017",
   "metadata": {},
   "outputs": [],
   "source": [
    "df.to_csv('grains/manual_vs_auto_update.csv') # Save file"
   ]
  },
  {
   "cell_type": "code",
   "execution_count": 13,
   "id": "62180575",
   "metadata": {},
   "outputs": [
    {
     "name": "stdout",
     "output_type": "stream",
     "text": [
      "  Unnamed: 0   Image  Manual  Manual2  Auto_th_2  Auto_th_3  Auto_th_4\n",
      "0       Set1  Image1    92.0     93.0         70         87         82\n",
      "2       Set1  Image3   104.0     98.0         74         99         94\n",
      "3       Set1  Image4    99.0      NaN         73        101        109\n",
      "4       Set1  Image5    89.0      NaN         59         90         67\n",
      "5       Set1  Image6   115.0      NaN         82        124        105\n"
     ]
    }
   ],
   "source": [
    "df = pd.read_csv('grains/manual_vs_auto.csv')\n",
    "\n",
    "df1 = df.drop(df.index[1]) # remove index 1 row data\n",
    "\n",
    "print(df1.head())"
   ]
  },
  {
   "cell_type": "code",
   "execution_count": 15,
   "id": "bbf5eaf2",
   "metadata": {},
   "outputs": [
    {
     "name": "stdout",
     "output_type": "stream",
     "text": [
      "   Unnamed: 0    Image  Manual  Manual2  Auto_th_2  Auto_th_3  Auto_th_4\n",
      "25       Set2  Image26   102.0      NaN         85        103        105\n",
      "26       Set2  Image27    93.0      NaN         76         84         98\n",
      "27       Set2  Image28    83.0      NaN         62         71         87\n",
      "28       Set2  Image29   110.0      NaN         92        117         85\n",
      "29       Set2  Image30    89.0      NaN         70         96         81\n",
      "   Unnamed: 0     Image  Manual  Manual2  Auto_th_2  Auto_th_3  Auto_th_4\n",
      "95       Set4   Image96   106.0      NaN         75        112         98\n",
      "96       Set4   Image97    80.0      NaN         66         80         88\n",
      "97       Set4   Image98    92.0      NaN         73         93         95\n",
      "98       Set4   Image99   116.0      NaN        101        115         93\n",
      "99       Set4  Image100    99.0      NaN         77        106        102\n"
     ]
    }
   ],
   "source": [
    "df1 = df[df['Unnamed: 0'] != 'Set1']\n",
    "\n",
    "print(df1.head())\n",
    "print(df1.tail())"
   ]
  },
  {
   "cell_type": "code",
   "execution_count": null,
   "id": "f88f4d0b",
   "metadata": {},
   "outputs": [],
   "source": []
  }
 ],
 "metadata": {
  "kernelspec": {
   "display_name": "Python 3",
   "language": "python",
   "name": "python3"
  },
  "language_info": {
   "codemirror_mode": {
    "name": "ipython",
    "version": 3
   },
   "file_extension": ".py",
   "mimetype": "text/x-python",
   "name": "python",
   "nbconvert_exporter": "python",
   "pygments_lexer": "ipython3",
   "version": "3.8.8"
  }
 },
 "nbformat": 4,
 "nbformat_minor": 5
}
