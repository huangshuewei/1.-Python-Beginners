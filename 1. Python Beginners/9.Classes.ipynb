{
 "cells": [
  {
   "cell_type": "code",
   "execution_count": 2,
   "id": "8c54e6a8",
   "metadata": {},
   "outputs": [
    {
     "name": "stdout",
     "output_type": "stream",
     "text": [
      "<__main__.CellDemo object at 0x00000234660E11C0>\n",
      "<__main__.CellDemo object at 0x00000234660E1580>\n"
     ]
    }
   ],
   "source": [
    "class CellDemo:\n",
    "    pass\n",
    "\n",
    "cell_1 = CellDemo() # instance 1\n",
    "cell_2 = CellDemo() # instance 2\n",
    "\n",
    "print(cell_1)\n",
    "print(cell_2)"
   ]
  },
  {
   "cell_type": "code",
   "execution_count": null,
   "id": "4c51f5c3",
   "metadata": {},
   "outputs": [],
   "source": [
    "\"\"\"\n",
    "cell_1.name = \"cell_one\"\n",
    "cell_1.x = 0\n",
    "cell_1.y = 0\n",
    "\n",
    "cell_2.name = \"cell_two\"\n",
    "cell_2.x = 10\n",
    "cell_2.y = 5\n",
    "\"\"\""
   ]
  },
  {
   "cell_type": "code",
   "execution_count": 11,
   "id": "13356559",
   "metadata": {},
   "outputs": [],
   "source": [
    "from math import sqrt\n",
    "class Cell:\n",
    "    def __init__(self,name,x,y):\n",
    "        self.cell_name = name\n",
    "        self.x = x\n",
    "        self.y = y\n",
    "        \n",
    "    def cell_distance(self,other_cell):\n",
    "        distance = sqrt((self.x - other_cell.x)**2+ (self.y - other_cell.y)**2)\n",
    "        return distance"
   ]
  },
  {
   "cell_type": "code",
   "execution_count": 15,
   "id": "16d4de7a",
   "metadata": {},
   "outputs": [
    {
     "name": "stdout",
     "output_type": "stream",
     "text": [
      "cell_one\n"
     ]
    }
   ],
   "source": [
    "cell_1 = Cell('cell_one',0,0)\n",
    "cell_2 = Cell('cell_two',10,5)\n",
    "cell_3 = Cell('cell_three',20,9)\n",
    "\n",
    "print(cell_1.cell_name)"
   ]
  },
  {
   "cell_type": "code",
   "execution_count": 14,
   "id": "7db77298",
   "metadata": {},
   "outputs": [
    {
     "name": "stdout",
     "output_type": "stream",
     "text": [
      "11.180339887498949\n"
     ]
    }
   ],
   "source": [
    "distance = cell_1.cell_distance(cell_2)\n",
    "\n",
    "print(distance)"
   ]
  },
  {
   "cell_type": "code",
   "execution_count": null,
   "id": "720a7799",
   "metadata": {},
   "outputs": [],
   "source": []
  }
 ],
 "metadata": {
  "kernelspec": {
   "display_name": "Python 3",
   "language": "python",
   "name": "python3"
  },
  "language_info": {
   "codemirror_mode": {
    "name": "ipython",
    "version": 3
   },
   "file_extension": ".py",
   "mimetype": "text/x-python",
   "name": "python",
   "nbconvert_exporter": "python",
   "pygments_lexer": "ipython3",
   "version": "3.8.8"
  }
 },
 "nbformat": 4,
 "nbformat_minor": 5
}
