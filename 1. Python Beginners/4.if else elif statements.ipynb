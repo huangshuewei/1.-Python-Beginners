{
 "cells": [
  {
   "cell_type": "code",
   "execution_count": 1,
   "id": "7cc8520d",
   "metadata": {},
   "outputs": [
    {
     "name": "stdout",
     "output_type": "stream",
     "text": [
      "Plz enter an integer-5\n",
      "-5  is a negative number\n"
     ]
    }
   ],
   "source": [
    "num = int(input(\"Plz enter an integer\"))\n",
    "\n",
    "if num >= 0:\n",
    "    print(num, \" is a positive number\")\n",
    "else:\n",
    "    print(num, \" is a negative number\")"
   ]
  },
  {
   "cell_type": "code",
   "execution_count": 2,
   "id": "52163eeb",
   "metadata": {},
   "outputs": [
    {
     "name": "stdout",
     "output_type": "stream",
     "text": [
      "Plz enter an integer3\n",
      "3  is a positive number\n"
     ]
    }
   ],
   "source": [
    "num = int(input(\"Plz enter an integer\"))\n",
    "\n",
    "if num >= 0:\n",
    "    print(num, \" is a positive number\")\n",
    "else:\n",
    "    print(num, \" is a negative number\")"
   ]
  },
  {
   "cell_type": "code",
   "execution_count": 3,
   "id": "b663d061",
   "metadata": {},
   "outputs": [
    {
     "name": "stdout",
     "output_type": "stream",
     "text": [
      "Plz enter an integer10\n",
      "10 is a positive number\n"
     ]
    }
   ],
   "source": [
    "num = int(input(\"Plz enter an integer\"))\n",
    "\n",
    "if num >= 0:\n",
    "    print(\"%d is a positive number\" %(num))\n",
    "else:\n",
    "    print(\"%d is a negative number\" %(num)) # %d means integer number"
   ]
  },
  {
   "cell_type": "code",
   "execution_count": 4,
   "id": "5c8b4b7d",
   "metadata": {},
   "outputs": [
    {
     "name": "stdout",
     "output_type": "stream",
     "text": [
      "Plz enter an integer-6\n",
      "-6.000000 is a negative number\n"
     ]
    }
   ],
   "source": [
    "num = int(input(\"Plz enter an integer\"))\n",
    "\n",
    "if num >= 0:\n",
    "    print(\"%d is a positive number\" %(num))\n",
    "else:\n",
    "    print(\"%f is a negative number\" %(num)) # %f means float number"
   ]
  },
  {
   "cell_type": "code",
   "execution_count": 8,
   "id": "59f34ec8",
   "metadata": {},
   "outputs": [
    {
     "name": "stdout",
     "output_type": "stream",
     "text": [
      "Plz enter an integer-5\n",
      "-5.000 is a negative number\n"
     ]
    }
   ],
   "source": [
    "num = int(input(\"Plz enter an integer\"))\n",
    "\n",
    "if num >= 0:\n",
    "    print(\"%d is a positive number\" %(num))\n",
    "else:\n",
    "    print(\"%4.3f is a negative number\" %(num)) # %f means float number and shows 4 digits before point and 3 digits after point"
   ]
  },
  {
   "cell_type": "code",
   "execution_count": 10,
   "id": "5cdc7b7c",
   "metadata": {},
   "outputs": [
    {
     "name": "stdout",
     "output_type": "stream",
     "text": [
      "Plz enter an integer0\n",
      "0 is Zero\n"
     ]
    }
   ],
   "source": [
    "num = int(input(\"Plz enter an integer\"))\n",
    "\n",
    "if num > 0:\n",
    "    print(\"%d is a positive number\" %(num))\n",
    "elif num == 0:\n",
    "    print(\"%d is Zero\" %(num))\n",
    "else:\n",
    "    print(\"%4.3f is a negative number\" %(num)) # %f means float number and shows 4 digits before point and 3 digits after point"
   ]
  },
  {
   "cell_type": "code",
   "execution_count": null,
   "id": "cca139c3",
   "metadata": {},
   "outputs": [],
   "source": []
  }
 ],
 "metadata": {
  "kernelspec": {
   "display_name": "Python 3",
   "language": "python",
   "name": "python3"
  },
  "language_info": {
   "codemirror_mode": {
    "name": "ipython",
    "version": 3
   },
   "file_extension": ".py",
   "mimetype": "text/x-python",
   "name": "python",
   "nbconvert_exporter": "python",
   "pygments_lexer": "ipython3",
   "version": "3.8.8"
  }
 },
 "nbformat": 4,
 "nbformat_minor": 5
}
